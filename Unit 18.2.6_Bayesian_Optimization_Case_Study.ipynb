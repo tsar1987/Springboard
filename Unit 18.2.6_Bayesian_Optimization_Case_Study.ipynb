{
 "cells": [
  {
   "cell_type": "markdown",
   "metadata": {
    "colab_type": "text",
    "id": "WNK7vbHo-KYU"
   },
   "source": [
    "## Bayesian methods of hyperparameter optimization"
   ]
  },
  {
   "cell_type": "markdown",
   "metadata": {
    "colab_type": "text",
    "id": "BlFdvPwF-KYW"
   },
   "source": [
    "In addition to the random search and the grid search methods for selecting optimal hyperparameters, we can use Bayesian methods of probabilities to select the optimal hyperparameters for an algorithm.\n",
    "\n",
    "In this case study, we will be using the BayesianOptimization library to perform hyperparmater tuning. This library has very good documentation which you can find here: https://github.com/fmfn/BayesianOptimization\n",
    "\n",
    "You will need to install the Bayesian optimization module. Running a cell with an exclamation point in the beginning of the command will run it as a shell command — please do this to install this module from our notebook in the cell below."
   ]
  },
  {
   "cell_type": "code",
   "execution_count": 39,
   "metadata": {
    "ExecuteTime": {
     "end_time": "2019-04-22T16:39:09.312682Z",
     "start_time": "2019-04-22T16:39:09.309208Z"
    },
    "_kg_hide-input": true,
    "colab": {},
    "colab_type": "code",
    "id": "l9nfFTyj-KYY"
   },
   "outputs": [],
   "source": [
    "import warnings\n",
    "warnings.filterwarnings('ignore')\n",
    "from sklearn.preprocessing import LabelEncoder\n",
    "import numpy as np\n",
    "import pandas as pd\n",
    "from bayes_opt import BayesianOptimization"
   ]
  },
  {
   "cell_type": "code",
   "execution_count": 40,
   "metadata": {},
   "outputs": [],
   "source": [
    "from sklearn.metrics import classification_report, confusion_matrix, ConfusionMatrixDisplay, roc_auc_score, roc_curve\n",
    "import matplotlib.pyplot as plt"
   ]
  },
  {
   "cell_type": "code",
   "execution_count": 41,
   "metadata": {},
   "outputs": [],
   "source": [
    "pd.set_option('display.max_rows', None)\n",
    "pd.set_option('display.max_columns', None)"
   ]
  },
  {
   "cell_type": "code",
   "execution_count": 42,
   "metadata": {},
   "outputs": [],
   "source": [
    "import lightgbm"
   ]
  },
  {
   "cell_type": "code",
   "execution_count": 43,
   "metadata": {},
   "outputs": [],
   "source": [
    "from catboost import CatBoostClassifier, cv, Pool"
   ]
  },
  {
   "cell_type": "code",
   "execution_count": 44,
   "metadata": {
    "colab": {
     "base_uri": "https://localhost:8080/",
     "height": 85
    },
    "colab_type": "code",
    "id": "D16Dquw1AAK0",
    "outputId": "44167587-f22e-4bf5-a816-e2bcfdc6c4ee"
   },
   "outputs": [
    {
     "data": {
      "text/plain": [
       "['.DS_Store',\n",
       " 'flight_delays_test.csv',\n",
       " 'flight_delays_train.csv',\n",
       " 'Unit 18.2.6_Bayesian_Optimization_Case_Study.ipynb',\n",
       " '.ipynb_checkpoints']"
      ]
     },
     "execution_count": 44,
     "metadata": {},
     "output_type": "execute_result"
    }
   ],
   "source": [
    "import os\n",
    "os.listdir()"
   ]
  },
  {
   "cell_type": "markdown",
   "metadata": {
    "ExecuteTime": {
     "end_time": "2019-04-22T14:48:15.929012Z",
     "start_time": "2019-04-22T14:48:15.926574Z"
    },
    "colab_type": "text",
    "id": "AkBt3yds-KYu"
   },
   "source": [
    "## How does Bayesian optimization work?"
   ]
  },
  {
   "cell_type": "markdown",
   "metadata": {
    "colab_type": "text",
    "id": "E1kyBCUs-KYv"
   },
   "source": [
    "Bayesian optimization works by constructing a posterior distribution of functions (Gaussian process) that best describes the function you want to optimize. As the number of observations grows, the posterior distribution improves, and the algorithm becomes more certain of which regions in parameter space are worth exploring and which are not, as seen in the picture below."
   ]
  },
  {
   "cell_type": "markdown",
   "metadata": {
    "colab_type": "text",
    "id": "gAdHF72R-KYw"
   },
   "source": [
    "<img src=\"https://github.com/fmfn/BayesianOptimization/blob/master/examples/bo_example.png?raw=true\" />\n",
    "As you iterate over and over, the algorithm balances its needs of exploration and exploitation while taking into account what it knows about the target function. At each step, a Gaussian Process is fitted to the known samples (points previously explored), and the posterior distribution, combined with an exploration strategy (such as UCB — aka Upper Confidence Bound), or EI (Expected Improvement). This process is used to determine the next point that should be explored (see the gif below).\n",
    "<img src=\"https://github.com/fmfn/BayesianOptimization/raw/master/examples/bayesian_optimization.gif\" />"
   ]
  },
  {
   "cell_type": "markdown",
   "metadata": {
    "colab_type": "text",
    "id": "RTP8KUlLoYzu"
   },
   "source": [
    "## Let's look at a simple example"
   ]
  },
  {
   "cell_type": "markdown",
   "metadata": {
    "colab_type": "text",
    "id": "crpPqKdC-KYx"
   },
   "source": [
    "The first step is to create an optimizer. It uses two items:\n",
    "* function to optimize\n",
    "* bounds of parameters\n",
    "\n",
    "The function is the procedure that counts metrics of our model quality. The important thing is that our optimization will maximize the value on function. Smaller metrics are best. Hint: don't forget to use negative metric values."
   ]
  },
  {
   "cell_type": "markdown",
   "metadata": {
    "colab_type": "text",
    "id": "e09ciF8gpTfr"
   },
   "source": [
    "Here we define our simple function we want to optimize."
   ]
  },
  {
   "cell_type": "code",
   "execution_count": 45,
   "metadata": {
    "colab": {},
    "colab_type": "code",
    "id": "ofwvnfEwo5mG"
   },
   "outputs": [],
   "source": [
    "def simple_func(a, b):\n",
    "    return a + b"
   ]
  },
  {
   "cell_type": "markdown",
   "metadata": {
    "colab_type": "text",
    "id": "XCGsdciCpeI3"
   },
   "source": [
    "Now, we define our bounds of the parameters to optimize, within the Bayesian optimizer."
   ]
  },
  {
   "cell_type": "code",
   "execution_count": 46,
   "metadata": {
    "colab": {},
    "colab_type": "code",
    "id": "4jLYW2qnpOFr"
   },
   "outputs": [],
   "source": [
    "optimizer = BayesianOptimization(\n",
    "    f=simple_func,\n",
    "    pbounds={'a': (1, 3),'b': (4, 7)},\n",
    "    allow_duplicate_points=True)     # a is between 1 to 3, b is between 4 and 7, find out maximize a+b."
   ]
  },
  {
   "cell_type": "code",
   "execution_count": 47,
   "metadata": {},
   "outputs": [
    {
     "data": {
      "text/plain": [
       "<bayes_opt.bayesian_optimization.BayesianOptimization at 0x7fd7ab500430>"
      ]
     },
     "execution_count": 47,
     "metadata": {},
     "output_type": "execute_result"
    }
   ],
   "source": [
    "optimizer"
   ]
  },
  {
   "cell_type": "markdown",
   "metadata": {
    "colab_type": "text",
    "id": "dg6LdYx8pq2T"
   },
   "source": [
    "These are the main parameters of this function:\n",
    "\n",
    "* **n_iter:** This is how many steps of Bayesian optimization you want to perform. The more steps, the more likely you are to find a good maximum.\n",
    "\n",
    "* **init_points:** This is how many steps of random exploration you want to perform. Random exploration can help by diversifying the exploration space."
   ]
  },
  {
   "cell_type": "markdown",
   "metadata": {
    "colab_type": "text",
    "id": "i-GKMJ1uqMYv"
   },
   "source": [
    "Let's run an example where we use the optimizer to find the best values to maximize the target value for a and b given the inputs of 3 and 2."
   ]
  },
  {
   "cell_type": "code",
   "execution_count": 48,
   "metadata": {
    "colab": {
     "base_uri": "https://localhost:8080/",
     "height": 153
    },
    "colab_type": "code",
    "id": "Oy44Ro7wqNat",
    "outputId": "9cc64d54-b1e6-46d1-dc29-4c0039a1c72d"
   },
   "outputs": [
    {
     "name": "stdout",
     "output_type": "stream",
     "text": [
      "|   iter    |  target   |     a     |     b     |\n",
      "-------------------------------------------------\n",
      "| \u001b[0m1        \u001b[0m | \u001b[0m7.34     \u001b[0m | \u001b[0m2.136    \u001b[0m | \u001b[0m5.204    \u001b[0m |\n",
      "| \u001b[95m2        \u001b[0m | \u001b[95m7.735    \u001b[0m | \u001b[95m1.284    \u001b[0m | \u001b[95m6.451    \u001b[0m |\n",
      "| \u001b[0m3        \u001b[0m | \u001b[0m5.83     \u001b[0m | \u001b[0m1.679    \u001b[0m | \u001b[0m4.151    \u001b[0m |\n",
      "| \u001b[0m4        \u001b[0m | \u001b[0m6.955    \u001b[0m | \u001b[0m2.701    \u001b[0m | \u001b[0m4.254    \u001b[0m |\n",
      "| \u001b[95m5        \u001b[0m | \u001b[95m9.596    \u001b[0m | \u001b[95m2.66     \u001b[0m | \u001b[95m6.936    \u001b[0m |\n",
      "| \u001b[0m6        \u001b[0m | \u001b[0m6.532    \u001b[0m | \u001b[0m1.468    \u001b[0m | \u001b[0m5.064    \u001b[0m |\n",
      "| \u001b[0m7        \u001b[0m | \u001b[0m6.612    \u001b[0m | \u001b[0m1.582    \u001b[0m | \u001b[0m5.03     \u001b[0m |\n",
      "| \u001b[0m8        \u001b[0m | \u001b[0m5.398    \u001b[0m | \u001b[0m1.22     \u001b[0m | \u001b[0m4.178    \u001b[0m |\n",
      "| \u001b[0m9        \u001b[0m | \u001b[0m8.941    \u001b[0m | \u001b[0m2.067    \u001b[0m | \u001b[0m6.874    \u001b[0m |\n",
      "| \u001b[0m10       \u001b[0m | \u001b[0m7.524    \u001b[0m | \u001b[0m2.558    \u001b[0m | \u001b[0m4.966    \u001b[0m |\n",
      "| \u001b[95m11       \u001b[0m | \u001b[95m10.0     \u001b[0m | \u001b[95m3.0      \u001b[0m | \u001b[95m7.0      \u001b[0m |\n",
      "\u001b[91mData point [3. 7.] is not unique. 1 duplicates registered. Continuing ...\u001b[0m\n",
      "| \u001b[0m12       \u001b[0m | \u001b[0m10.0     \u001b[0m | \u001b[0m3.0      \u001b[0m | \u001b[0m7.0      \u001b[0m |\n",
      "=================================================\n"
     ]
    }
   ],
   "source": [
    "optimizer.maximize(init_points=10, n_iter=2)"
   ]
  },
  {
   "cell_type": "markdown",
   "metadata": {
    "colab_type": "text",
    "id": "tyKFMF2Hq2Sx"
   },
   "source": [
    "Great, now let's print the best parameters and the associated maximized target."
   ]
  },
  {
   "cell_type": "code",
   "execution_count": 49,
   "metadata": {
    "colab": {
     "base_uri": "https://localhost:8080/",
     "height": 51
    },
    "colab_type": "code",
    "id": "_H6DixyfscV_",
    "outputId": "fd0c35d7-e30d-4d30-9ab2-12c0fa837971"
   },
   "outputs": [
    {
     "name": "stdout",
     "output_type": "stream",
     "text": [
      "{'a': 3.0, 'b': 7.0}\n"
     ]
    },
    {
     "data": {
      "text/plain": [
       "10.0"
      ]
     },
     "execution_count": 49,
     "metadata": {},
     "output_type": "execute_result"
    }
   ],
   "source": [
    "print(optimizer.max['params']);optimizer.max['target']"
   ]
  },
  {
   "cell_type": "markdown",
   "metadata": {
    "colab_type": "text",
    "id": "tQ1T1V6Mspi4"
   },
   "source": [
    "## Test it on real data using the Light GBM"
   ]
  },
  {
   "cell_type": "markdown",
   "metadata": {
    "colab_type": "text",
    "id": "y_oGwREZkm4h"
   },
   "source": [
    "The dataset we will be working with is the famous flight departures dataset. Our modeling goal will be to predict if a flight departure is going to be delayed by 15 minutes based on the other attributes in our dataset. As part of this modeling exercise, we will use Bayesian hyperparameter optimization to identify the best parameters for our model."
   ]
  },
  {
   "cell_type": "markdown",
   "metadata": {
    "colab_type": "text",
    "id": "abYSagjQANDZ"
   },
   "source": [
    "**<font color='teal'> You can load the zipped csv files just as you would regular csv files using Pandas read_csv. In the next cell load the train and test data into two seperate dataframes. </font>**\n"
   ]
  },
  {
   "cell_type": "code",
   "execution_count": 50,
   "metadata": {
    "colab": {},
    "colab_type": "code",
    "id": "EWKBApVuAeJe"
   },
   "outputs": [],
   "source": [
    "train_df = pd.read_csv('flight_delays_train.csv')\n",
    "test_df = pd.read_csv('flight_delays_test.csv')"
   ]
  },
  {
   "cell_type": "markdown",
   "metadata": {
    "colab_type": "text",
    "id": "OapNcT9Eikis"
   },
   "source": [
    "**<font color='teal'> Print the top five rows of the train dataframe and review the columns in the data. </font>**"
   ]
  },
  {
   "cell_type": "code",
   "execution_count": 51,
   "metadata": {},
   "outputs": [
    {
     "data": {
      "text/html": [
       "<div>\n",
       "<style scoped>\n",
       "    .dataframe tbody tr th:only-of-type {\n",
       "        vertical-align: middle;\n",
       "    }\n",
       "\n",
       "    .dataframe tbody tr th {\n",
       "        vertical-align: top;\n",
       "    }\n",
       "\n",
       "    .dataframe thead th {\n",
       "        text-align: right;\n",
       "    }\n",
       "</style>\n",
       "<table border=\"1\" class=\"dataframe\">\n",
       "  <thead>\n",
       "    <tr style=\"text-align: right;\">\n",
       "      <th></th>\n",
       "      <th>Month</th>\n",
       "      <th>DayofMonth</th>\n",
       "      <th>DayOfWeek</th>\n",
       "      <th>DepTime</th>\n",
       "      <th>UniqueCarrier</th>\n",
       "      <th>Origin</th>\n",
       "      <th>Dest</th>\n",
       "      <th>Distance</th>\n",
       "      <th>dep_delayed_15min</th>\n",
       "    </tr>\n",
       "  </thead>\n",
       "  <tbody>\n",
       "    <tr>\n",
       "      <th>0</th>\n",
       "      <td>c-8</td>\n",
       "      <td>c-21</td>\n",
       "      <td>c-7</td>\n",
       "      <td>1934</td>\n",
       "      <td>AA</td>\n",
       "      <td>ATL</td>\n",
       "      <td>DFW</td>\n",
       "      <td>732</td>\n",
       "      <td>N</td>\n",
       "    </tr>\n",
       "    <tr>\n",
       "      <th>1</th>\n",
       "      <td>c-4</td>\n",
       "      <td>c-20</td>\n",
       "      <td>c-3</td>\n",
       "      <td>1548</td>\n",
       "      <td>US</td>\n",
       "      <td>PIT</td>\n",
       "      <td>MCO</td>\n",
       "      <td>834</td>\n",
       "      <td>N</td>\n",
       "    </tr>\n",
       "    <tr>\n",
       "      <th>2</th>\n",
       "      <td>c-9</td>\n",
       "      <td>c-2</td>\n",
       "      <td>c-5</td>\n",
       "      <td>1422</td>\n",
       "      <td>XE</td>\n",
       "      <td>RDU</td>\n",
       "      <td>CLE</td>\n",
       "      <td>416</td>\n",
       "      <td>N</td>\n",
       "    </tr>\n",
       "    <tr>\n",
       "      <th>3</th>\n",
       "      <td>c-11</td>\n",
       "      <td>c-25</td>\n",
       "      <td>c-6</td>\n",
       "      <td>1015</td>\n",
       "      <td>OO</td>\n",
       "      <td>DEN</td>\n",
       "      <td>MEM</td>\n",
       "      <td>872</td>\n",
       "      <td>N</td>\n",
       "    </tr>\n",
       "    <tr>\n",
       "      <th>4</th>\n",
       "      <td>c-10</td>\n",
       "      <td>c-7</td>\n",
       "      <td>c-6</td>\n",
       "      <td>1828</td>\n",
       "      <td>WN</td>\n",
       "      <td>MDW</td>\n",
       "      <td>OMA</td>\n",
       "      <td>423</td>\n",
       "      <td>Y</td>\n",
       "    </tr>\n",
       "  </tbody>\n",
       "</table>\n",
       "</div>"
      ],
      "text/plain": [
       "  Month DayofMonth DayOfWeek  DepTime UniqueCarrier Origin Dest  Distance  \\\n",
       "0   c-8       c-21       c-7     1934            AA    ATL  DFW       732   \n",
       "1   c-4       c-20       c-3     1548            US    PIT  MCO       834   \n",
       "2   c-9        c-2       c-5     1422            XE    RDU  CLE       416   \n",
       "3  c-11       c-25       c-6     1015            OO    DEN  MEM       872   \n",
       "4  c-10        c-7       c-6     1828            WN    MDW  OMA       423   \n",
       "\n",
       "  dep_delayed_15min  \n",
       "0                 N  \n",
       "1                 N  \n",
       "2                 N  \n",
       "3                 N  \n",
       "4                 Y  "
      ]
     },
     "execution_count": 51,
     "metadata": {},
     "output_type": "execute_result"
    }
   ],
   "source": [
    "train_df.head()"
   ]
  },
  {
   "cell_type": "code",
   "execution_count": 52,
   "metadata": {},
   "outputs": [
    {
     "data": {
      "text/html": [
       "<div>\n",
       "<style scoped>\n",
       "    .dataframe tbody tr th:only-of-type {\n",
       "        vertical-align: middle;\n",
       "    }\n",
       "\n",
       "    .dataframe tbody tr th {\n",
       "        vertical-align: top;\n",
       "    }\n",
       "\n",
       "    .dataframe thead th {\n",
       "        text-align: right;\n",
       "    }\n",
       "</style>\n",
       "<table border=\"1\" class=\"dataframe\">\n",
       "  <thead>\n",
       "    <tr style=\"text-align: right;\">\n",
       "      <th></th>\n",
       "      <th>Month</th>\n",
       "      <th>DayofMonth</th>\n",
       "      <th>DayOfWeek</th>\n",
       "      <th>DepTime</th>\n",
       "      <th>UniqueCarrier</th>\n",
       "      <th>Origin</th>\n",
       "      <th>Dest</th>\n",
       "      <th>Distance</th>\n",
       "    </tr>\n",
       "  </thead>\n",
       "  <tbody>\n",
       "    <tr>\n",
       "      <th>0</th>\n",
       "      <td>c-7</td>\n",
       "      <td>c-25</td>\n",
       "      <td>c-3</td>\n",
       "      <td>615</td>\n",
       "      <td>YV</td>\n",
       "      <td>MRY</td>\n",
       "      <td>PHX</td>\n",
       "      <td>598</td>\n",
       "    </tr>\n",
       "    <tr>\n",
       "      <th>1</th>\n",
       "      <td>c-4</td>\n",
       "      <td>c-17</td>\n",
       "      <td>c-2</td>\n",
       "      <td>739</td>\n",
       "      <td>WN</td>\n",
       "      <td>LAS</td>\n",
       "      <td>HOU</td>\n",
       "      <td>1235</td>\n",
       "    </tr>\n",
       "    <tr>\n",
       "      <th>2</th>\n",
       "      <td>c-12</td>\n",
       "      <td>c-2</td>\n",
       "      <td>c-7</td>\n",
       "      <td>651</td>\n",
       "      <td>MQ</td>\n",
       "      <td>GSP</td>\n",
       "      <td>ORD</td>\n",
       "      <td>577</td>\n",
       "    </tr>\n",
       "    <tr>\n",
       "      <th>3</th>\n",
       "      <td>c-3</td>\n",
       "      <td>c-25</td>\n",
       "      <td>c-7</td>\n",
       "      <td>1614</td>\n",
       "      <td>WN</td>\n",
       "      <td>BWI</td>\n",
       "      <td>MHT</td>\n",
       "      <td>377</td>\n",
       "    </tr>\n",
       "    <tr>\n",
       "      <th>4</th>\n",
       "      <td>c-6</td>\n",
       "      <td>c-6</td>\n",
       "      <td>c-3</td>\n",
       "      <td>1505</td>\n",
       "      <td>UA</td>\n",
       "      <td>ORD</td>\n",
       "      <td>STL</td>\n",
       "      <td>258</td>\n",
       "    </tr>\n",
       "  </tbody>\n",
       "</table>\n",
       "</div>"
      ],
      "text/plain": [
       "  Month DayofMonth DayOfWeek  DepTime UniqueCarrier Origin Dest  Distance\n",
       "0   c-7       c-25       c-3      615            YV    MRY  PHX       598\n",
       "1   c-4       c-17       c-2      739            WN    LAS  HOU      1235\n",
       "2  c-12        c-2       c-7      651            MQ    GSP  ORD       577\n",
       "3   c-3       c-25       c-7     1614            WN    BWI  MHT       377\n",
       "4   c-6        c-6       c-3     1505            UA    ORD  STL       258"
      ]
     },
     "execution_count": 52,
     "metadata": {},
     "output_type": "execute_result"
    }
   ],
   "source": [
    "test_df.head()"
   ]
  },
  {
   "cell_type": "markdown",
   "metadata": {
    "colab_type": "text",
    "id": "UxGBsPQhffgd"
   },
   "source": [
    "**<font color='teal'> Use the describe function to review the numeric columns in the train dataframe. </font>**"
   ]
  },
  {
   "cell_type": "code",
   "execution_count": 53,
   "metadata": {
    "colab": {
     "base_uri": "https://localhost:8080/",
     "height": 297
    },
    "colab_type": "code",
    "id": "_bRRKG3DAtae",
    "outputId": "7cfb9975-ec97-422c-abbd-98923a0b7aec"
   },
   "outputs": [
    {
     "data": {
      "text/html": [
       "<div>\n",
       "<style scoped>\n",
       "    .dataframe tbody tr th:only-of-type {\n",
       "        vertical-align: middle;\n",
       "    }\n",
       "\n",
       "    .dataframe tbody tr th {\n",
       "        vertical-align: top;\n",
       "    }\n",
       "\n",
       "    .dataframe thead th {\n",
       "        text-align: right;\n",
       "    }\n",
       "</style>\n",
       "<table border=\"1\" class=\"dataframe\">\n",
       "  <thead>\n",
       "    <tr style=\"text-align: right;\">\n",
       "      <th></th>\n",
       "      <th>DepTime</th>\n",
       "      <th>Distance</th>\n",
       "    </tr>\n",
       "  </thead>\n",
       "  <tbody>\n",
       "    <tr>\n",
       "      <th>count</th>\n",
       "      <td>100000.000000</td>\n",
       "      <td>100000.00000</td>\n",
       "    </tr>\n",
       "    <tr>\n",
       "      <th>mean</th>\n",
       "      <td>1341.523880</td>\n",
       "      <td>729.39716</td>\n",
       "    </tr>\n",
       "    <tr>\n",
       "      <th>std</th>\n",
       "      <td>476.378445</td>\n",
       "      <td>574.61686</td>\n",
       "    </tr>\n",
       "    <tr>\n",
       "      <th>min</th>\n",
       "      <td>1.000000</td>\n",
       "      <td>30.00000</td>\n",
       "    </tr>\n",
       "    <tr>\n",
       "      <th>25%</th>\n",
       "      <td>931.000000</td>\n",
       "      <td>317.00000</td>\n",
       "    </tr>\n",
       "    <tr>\n",
       "      <th>50%</th>\n",
       "      <td>1330.000000</td>\n",
       "      <td>575.00000</td>\n",
       "    </tr>\n",
       "    <tr>\n",
       "      <th>75%</th>\n",
       "      <td>1733.000000</td>\n",
       "      <td>957.00000</td>\n",
       "    </tr>\n",
       "    <tr>\n",
       "      <th>max</th>\n",
       "      <td>2534.000000</td>\n",
       "      <td>4962.00000</td>\n",
       "    </tr>\n",
       "  </tbody>\n",
       "</table>\n",
       "</div>"
      ],
      "text/plain": [
       "             DepTime      Distance\n",
       "count  100000.000000  100000.00000\n",
       "mean     1341.523880     729.39716\n",
       "std       476.378445     574.61686\n",
       "min         1.000000      30.00000\n",
       "25%       931.000000     317.00000\n",
       "50%      1330.000000     575.00000\n",
       "75%      1733.000000     957.00000\n",
       "max      2534.000000    4962.00000"
      ]
     },
     "execution_count": 53,
     "metadata": {},
     "output_type": "execute_result"
    }
   ],
   "source": [
    "train_df.describe()"
   ]
  },
  {
   "cell_type": "markdown",
   "metadata": {
    "colab_type": "text",
    "id": "i6k-_fI5Aiyh"
   },
   "source": [
    "Notice, `DepTime` is the departure time in a numeric representation in 24 hours format. But some `DepTime` looks strange, i.e. large than 2400."
   ]
  },
  {
   "cell_type": "markdown",
   "metadata": {},
   "source": [
    "First, let's check the minutes in `DepTime`."
   ]
  },
  {
   "cell_type": "code",
   "execution_count": 54,
   "metadata": {},
   "outputs": [
    {
     "data": {
      "text/plain": [
       "0"
      ]
     },
     "execution_count": 54,
     "metadata": {},
     "output_type": "execute_result"
    }
   ],
   "source": [
    "DepTime = train_df['DepTime'].unique()\n",
    "DepTime_min = [int(str(time)[-2:]) for time in DepTime]\n",
    "sum(np.array(DepTime_min)>=60)"
   ]
  },
  {
   "cell_type": "markdown",
   "metadata": {},
   "source": [
    "Looks like all 'DepTime' minutes are less than 60. Good, let's check hours"
   ]
  },
  {
   "cell_type": "code",
   "execution_count": 55,
   "metadata": {},
   "outputs": [
    {
     "data": {
      "text/plain": [
       "16"
      ]
     },
     "execution_count": 55,
     "metadata": {},
     "output_type": "execute_result"
    }
   ],
   "source": [
    "sum(np.array(DepTime)>2400)"
   ]
  },
  {
   "cell_type": "code",
   "execution_count": 56,
   "metadata": {},
   "outputs": [
    {
     "data": {
      "text/html": [
       "<div>\n",
       "<style scoped>\n",
       "    .dataframe tbody tr th:only-of-type {\n",
       "        vertical-align: middle;\n",
       "    }\n",
       "\n",
       "    .dataframe tbody tr th {\n",
       "        vertical-align: top;\n",
       "    }\n",
       "\n",
       "    .dataframe thead th {\n",
       "        text-align: right;\n",
       "    }\n",
       "</style>\n",
       "<table border=\"1\" class=\"dataframe\">\n",
       "  <thead>\n",
       "    <tr style=\"text-align: right;\">\n",
       "      <th></th>\n",
       "      <th>Month</th>\n",
       "      <th>DayofMonth</th>\n",
       "      <th>DayOfWeek</th>\n",
       "      <th>DepTime</th>\n",
       "      <th>UniqueCarrier</th>\n",
       "      <th>Origin</th>\n",
       "      <th>Dest</th>\n",
       "      <th>Distance</th>\n",
       "      <th>dep_delayed_15min</th>\n",
       "    </tr>\n",
       "  </thead>\n",
       "  <tbody>\n",
       "    <tr>\n",
       "      <th>8189</th>\n",
       "      <td>c-6</td>\n",
       "      <td>c-14</td>\n",
       "      <td>c-2</td>\n",
       "      <td>2435</td>\n",
       "      <td>EV</td>\n",
       "      <td>CVG</td>\n",
       "      <td>AVL</td>\n",
       "      <td>275</td>\n",
       "      <td>Y</td>\n",
       "    </tr>\n",
       "    <tr>\n",
       "      <th>20766</th>\n",
       "      <td>c-5</td>\n",
       "      <td>c-31</td>\n",
       "      <td>c-2</td>\n",
       "      <td>2534</td>\n",
       "      <td>EV</td>\n",
       "      <td>ATL</td>\n",
       "      <td>HSV</td>\n",
       "      <td>151</td>\n",
       "      <td>Y</td>\n",
       "    </tr>\n",
       "    <tr>\n",
       "      <th>27391</th>\n",
       "      <td>c-3</td>\n",
       "      <td>c-23</td>\n",
       "      <td>c-4</td>\n",
       "      <td>2505</td>\n",
       "      <td>EV</td>\n",
       "      <td>ATL</td>\n",
       "      <td>AGS</td>\n",
       "      <td>143</td>\n",
       "      <td>Y</td>\n",
       "    </tr>\n",
       "    <tr>\n",
       "      <th>44332</th>\n",
       "      <td>c-7</td>\n",
       "      <td>c-15</td>\n",
       "      <td>c-5</td>\n",
       "      <td>2440</td>\n",
       "      <td>EV</td>\n",
       "      <td>ATL</td>\n",
       "      <td>SHV</td>\n",
       "      <td>552</td>\n",
       "      <td>Y</td>\n",
       "    </tr>\n",
       "    <tr>\n",
       "      <th>45796</th>\n",
       "      <td>c-8</td>\n",
       "      <td>c-18</td>\n",
       "      <td>c-4</td>\n",
       "      <td>2447</td>\n",
       "      <td>EV</td>\n",
       "      <td>ATL</td>\n",
       "      <td>JAN</td>\n",
       "      <td>341</td>\n",
       "      <td>Y</td>\n",
       "    </tr>\n",
       "  </tbody>\n",
       "</table>\n",
       "</div>"
      ],
      "text/plain": [
       "      Month DayofMonth DayOfWeek  DepTime UniqueCarrier Origin Dest  Distance  \\\n",
       "8189    c-6       c-14       c-2     2435            EV    CVG  AVL       275   \n",
       "20766   c-5       c-31       c-2     2534            EV    ATL  HSV       151   \n",
       "27391   c-3       c-23       c-4     2505            EV    ATL  AGS       143   \n",
       "44332   c-7       c-15       c-5     2440            EV    ATL  SHV       552   \n",
       "45796   c-8       c-18       c-4     2447            EV    ATL  JAN       341   \n",
       "\n",
       "      dep_delayed_15min  \n",
       "8189                  Y  \n",
       "20766                 Y  \n",
       "27391                 Y  \n",
       "44332                 Y  \n",
       "45796                 Y  "
      ]
     },
     "execution_count": 56,
     "metadata": {},
     "output_type": "execute_result"
    }
   ],
   "source": [
    "train_df[train_df.DepTime > 2400].head()"
   ]
  },
  {
   "cell_type": "markdown",
   "metadata": {},
   "source": [
    "There are 16 rows with DepTime have hour large than 24. Drop them."
   ]
  },
  {
   "cell_type": "code",
   "execution_count": 57,
   "metadata": {},
   "outputs": [],
   "source": [
    "train_df = train_df[train_df.DepTime <= 2400].copy()"
   ]
  },
  {
   "cell_type": "code",
   "execution_count": 58,
   "metadata": {},
   "outputs": [
    {
     "name": "stdout",
     "output_type": "stream",
     "text": [
      "<class 'pandas.core.frame.DataFrame'>\n",
      "Index: 99983 entries, 0 to 99999\n",
      "Data columns (total 9 columns):\n",
      " #   Column             Non-Null Count  Dtype \n",
      "---  ------             --------------  ----- \n",
      " 0   Month              99983 non-null  object\n",
      " 1   DayofMonth         99983 non-null  object\n",
      " 2   DayOfWeek          99983 non-null  object\n",
      " 3   DepTime            99983 non-null  int64 \n",
      " 4   UniqueCarrier      99983 non-null  object\n",
      " 5   Origin             99983 non-null  object\n",
      " 6   Dest               99983 non-null  object\n",
      " 7   Distance           99983 non-null  int64 \n",
      " 8   dep_delayed_15min  99983 non-null  object\n",
      "dtypes: int64(2), object(7)\n",
      "memory usage: 7.6+ MB\n"
     ]
    }
   ],
   "source": [
    "train_df.info()"
   ]
  },
  {
   "cell_type": "markdown",
   "metadata": {
    "colab_type": "text",
    "id": "gtZS4-hrlQah"
   },
   "source": [
    " **<font color='teal'>The response variable is 'dep_delayed_15min' which is a categorical column, so we need to map the Y for yes and N for no values to 1 and 0. Run the code in the next cell to do this.</font>**"
   ]
  },
  {
   "cell_type": "code",
   "execution_count": 59,
   "metadata": {
    "ExecuteTime": {
     "end_time": "2019-04-22T15:38:42.677690Z",
     "start_time": "2019-04-22T15:38:42.481963Z"
    },
    "colab": {},
    "colab_type": "code",
    "id": "yRlOTbnW-KYc"
   },
   "outputs": [],
   "source": [
    "train_df['dep_delayed_15min'] = train_df['dep_delayed_15min'].map({'Y': 1, 'N': 0})"
   ]
  },
  {
   "cell_type": "code",
   "execution_count": 60,
   "metadata": {},
   "outputs": [
    {
     "data": {
      "text/html": [
       "<div>\n",
       "<style scoped>\n",
       "    .dataframe tbody tr th:only-of-type {\n",
       "        vertical-align: middle;\n",
       "    }\n",
       "\n",
       "    .dataframe tbody tr th {\n",
       "        vertical-align: top;\n",
       "    }\n",
       "\n",
       "    .dataframe thead th {\n",
       "        text-align: right;\n",
       "    }\n",
       "</style>\n",
       "<table border=\"1\" class=\"dataframe\">\n",
       "  <thead>\n",
       "    <tr style=\"text-align: right;\">\n",
       "      <th></th>\n",
       "      <th>Month</th>\n",
       "      <th>DayofMonth</th>\n",
       "      <th>DayOfWeek</th>\n",
       "      <th>DepTime</th>\n",
       "      <th>UniqueCarrier</th>\n",
       "      <th>Origin</th>\n",
       "      <th>Dest</th>\n",
       "      <th>Distance</th>\n",
       "      <th>dep_delayed_15min</th>\n",
       "    </tr>\n",
       "  </thead>\n",
       "  <tbody>\n",
       "    <tr>\n",
       "      <th>0</th>\n",
       "      <td>c-8</td>\n",
       "      <td>c-21</td>\n",
       "      <td>c-7</td>\n",
       "      <td>1934</td>\n",
       "      <td>AA</td>\n",
       "      <td>ATL</td>\n",
       "      <td>DFW</td>\n",
       "      <td>732</td>\n",
       "      <td>0</td>\n",
       "    </tr>\n",
       "    <tr>\n",
       "      <th>1</th>\n",
       "      <td>c-4</td>\n",
       "      <td>c-20</td>\n",
       "      <td>c-3</td>\n",
       "      <td>1548</td>\n",
       "      <td>US</td>\n",
       "      <td>PIT</td>\n",
       "      <td>MCO</td>\n",
       "      <td>834</td>\n",
       "      <td>0</td>\n",
       "    </tr>\n",
       "    <tr>\n",
       "      <th>2</th>\n",
       "      <td>c-9</td>\n",
       "      <td>c-2</td>\n",
       "      <td>c-5</td>\n",
       "      <td>1422</td>\n",
       "      <td>XE</td>\n",
       "      <td>RDU</td>\n",
       "      <td>CLE</td>\n",
       "      <td>416</td>\n",
       "      <td>0</td>\n",
       "    </tr>\n",
       "    <tr>\n",
       "      <th>3</th>\n",
       "      <td>c-11</td>\n",
       "      <td>c-25</td>\n",
       "      <td>c-6</td>\n",
       "      <td>1015</td>\n",
       "      <td>OO</td>\n",
       "      <td>DEN</td>\n",
       "      <td>MEM</td>\n",
       "      <td>872</td>\n",
       "      <td>0</td>\n",
       "    </tr>\n",
       "    <tr>\n",
       "      <th>4</th>\n",
       "      <td>c-10</td>\n",
       "      <td>c-7</td>\n",
       "      <td>c-6</td>\n",
       "      <td>1828</td>\n",
       "      <td>WN</td>\n",
       "      <td>MDW</td>\n",
       "      <td>OMA</td>\n",
       "      <td>423</td>\n",
       "      <td>1</td>\n",
       "    </tr>\n",
       "  </tbody>\n",
       "</table>\n",
       "</div>"
      ],
      "text/plain": [
       "  Month DayofMonth DayOfWeek  DepTime UniqueCarrier Origin Dest  Distance  \\\n",
       "0   c-8       c-21       c-7     1934            AA    ATL  DFW       732   \n",
       "1   c-4       c-20       c-3     1548            US    PIT  MCO       834   \n",
       "2   c-9        c-2       c-5     1422            XE    RDU  CLE       416   \n",
       "3  c-11       c-25       c-6     1015            OO    DEN  MEM       872   \n",
       "4  c-10        c-7       c-6     1828            WN    MDW  OMA       423   \n",
       "\n",
       "   dep_delayed_15min  \n",
       "0                  0  \n",
       "1                  0  \n",
       "2                  0  \n",
       "3                  0  \n",
       "4                  1  "
      ]
     },
     "execution_count": 60,
     "metadata": {},
     "output_type": "execute_result"
    }
   ],
   "source": [
    "train_df.head()"
   ]
  },
  {
   "cell_type": "markdown",
   "metadata": {
    "colab_type": "text",
    "id": "z3WPkFQO9uo9"
   },
   "source": [
    "## Feature Engineering\n",
    "Use these defined functions to create additional features for the model. Run the cell to add the functions to your workspace."
   ]
  },
  {
   "cell_type": "code",
   "execution_count": 61,
   "metadata": {
    "colab": {},
    "colab_type": "code",
    "id": "cXqsqz5W9t3r"
   },
   "outputs": [],
   "source": [
    "def label_enc(df_column):\n",
    "    df_column = LabelEncoder().fit_transform(df_column)\n",
    "    return df_column\n",
    "\n",
    "def make_harmonic_features_sin(value, period=2400):\n",
    "    value *= 2 * np.pi / period \n",
    "    return np.sin(value)\n",
    "\n",
    "def make_harmonic_features_cos(value, period=2400):\n",
    "    value *= 2 * np.pi / period \n",
    "    return np.cos(value)\n",
    "\n",
    "def feature_eng(df):\n",
    "    df['flight'] = df['Origin']+df['Dest']\n",
    "    df['Month'] = df.Month.map(lambda x: x.split('-')[-1]).astype('int32')\n",
    "    df['DayofMonth'] = df.DayofMonth.map(lambda x: x.split('-')[-1]).astype('uint8')             \n",
    "    df['begin_of_month'] = (df['DayofMonth'] < 10).astype('uint8')                               # use astype('uint8') change True/False to 1/0\n",
    "    df['midddle_of_month'] = ((df['DayofMonth'] >= 10)&(df['DayofMonth'] < 20)).astype('uint8')  # use astype('uint8') change True/False to 1/0     \n",
    "    df['end_of_month'] = (df['DayofMonth'] >= 20).astype('uint8')                                # use astype('uint8') change True/False to 1/0\n",
    "    df['DayOfWeek'] = df.DayOfWeek.map(lambda x: x.split('-')[-1]).astype('uint8')\n",
    "    df['hour'] = df.DepTime.map(lambda x: x/100).astype('int32')\n",
    "    df['morning'] = df['hour'].map(lambda x: 1 if (x <= 11)& (x >= 7) else 0).astype('uint8')\n",
    "    df['day'] = df['hour'].map(lambda x: 1 if (x >= 12) & (x <= 18) else 0).astype('uint8')\n",
    "    df['evening'] = df['hour'].map(lambda x: 1 if (x >= 19) & (x <= 23) else 0).astype('uint8')\n",
    "    df['night'] = df['hour'].map(lambda x: 1 if (x >= 0) & (x <= 6) else 0).astype('int32')\n",
    "    df['winter'] = df['Month'].map(lambda x: x in [12, 1, 2]).astype('int32')                    # use astype('int32') change True/False to 1/0         \n",
    "    df['spring'] = df['Month'].map(lambda x: x in [3, 4, 5]).astype('int32')                     # use astype('int32') change True/False to 1/0 \n",
    "    df['summer'] = df['Month'].map(lambda x: x in [6, 7, 8]).astype('int32')                     # use astype('int32') change True/False to 1/0 \n",
    "    df['autumn'] = df['Month'].map(lambda x: x in [9, 10, 11]).astype('int32')                   # use astype('int32') change True/False to 1/0 \n",
    "    df['holiday'] = (df['DayOfWeek'] >= 5).astype(int)                 # use astype(int) change True/False to 1/0 \n",
    "    df['weekday'] = (df['DayOfWeek'] < 5).astype(int)                  # use astype(int) change True/False to 1/0 \n",
    "    df['airport_dest_per_month'] = df.groupby(['Dest', 'Month'])['Dest'].transform('count')\n",
    "    df['airport_origin_per_month'] = df.groupby(['Origin', 'Month'])['Origin'].transform('count')\n",
    "    df['airport_dest_count'] = df.groupby(['Dest'])['Dest'].transform('count')\n",
    "    df['airport_origin_count'] = df.groupby(['Origin'])['Origin'].transform('count')\n",
    "    df['carrier_count'] = df.groupby(['UniqueCarrier'])['Dest'].transform('count')\n",
    "    df['carrier_count_per month'] = df.groupby(['UniqueCarrier', 'Month'])['Dest'].transform('count')\n",
    "    df['deptime_cos'] = df['DepTime'].map(make_harmonic_features_cos)\n",
    "    df['deptime_sin'] = df['DepTime'].map(make_harmonic_features_sin)\n",
    "    df['flightUC'] = df['flight']+df['UniqueCarrier']\n",
    "    df['DestUC'] = df['Dest']+df['UniqueCarrier']\n",
    "    df['OriginUC'] = df['Origin']+df['UniqueCarrier']\n",
    "    return df.drop('DepTime', axis=1)"
   ]
  },
  {
   "cell_type": "markdown",
   "metadata": {
    "colab_type": "text",
    "id": "-BYbxXpU-FGE"
   },
   "source": [
    "Concatenate the training and testing dataframes.\n"
   ]
  },
  {
   "cell_type": "code",
   "execution_count": 62,
   "metadata": {
    "colab": {},
    "colab_type": "code",
    "id": "Cj6bfSNw_RAf"
   },
   "outputs": [],
   "source": [
    "full_df = pd.concat([train_df, test_df])\n",
    "full_df = feature_eng(full_df)"
   ]
  },
  {
   "cell_type": "code",
   "execution_count": 63,
   "metadata": {},
   "outputs": [
    {
     "data": {
      "text/html": [
       "<div>\n",
       "<style scoped>\n",
       "    .dataframe tbody tr th:only-of-type {\n",
       "        vertical-align: middle;\n",
       "    }\n",
       "\n",
       "    .dataframe tbody tr th {\n",
       "        vertical-align: top;\n",
       "    }\n",
       "\n",
       "    .dataframe thead th {\n",
       "        text-align: right;\n",
       "    }\n",
       "</style>\n",
       "<table border=\"1\" class=\"dataframe\">\n",
       "  <thead>\n",
       "    <tr style=\"text-align: right;\">\n",
       "      <th></th>\n",
       "      <th>Month</th>\n",
       "      <th>DayofMonth</th>\n",
       "      <th>DayOfWeek</th>\n",
       "      <th>UniqueCarrier</th>\n",
       "      <th>Origin</th>\n",
       "      <th>Dest</th>\n",
       "      <th>Distance</th>\n",
       "      <th>dep_delayed_15min</th>\n",
       "      <th>flight</th>\n",
       "      <th>begin_of_month</th>\n",
       "      <th>midddle_of_month</th>\n",
       "      <th>end_of_month</th>\n",
       "      <th>hour</th>\n",
       "      <th>morning</th>\n",
       "      <th>day</th>\n",
       "      <th>evening</th>\n",
       "      <th>night</th>\n",
       "      <th>winter</th>\n",
       "      <th>spring</th>\n",
       "      <th>summer</th>\n",
       "      <th>autumn</th>\n",
       "      <th>holiday</th>\n",
       "      <th>weekday</th>\n",
       "      <th>airport_dest_per_month</th>\n",
       "      <th>airport_origin_per_month</th>\n",
       "      <th>airport_dest_count</th>\n",
       "      <th>airport_origin_count</th>\n",
       "      <th>carrier_count</th>\n",
       "      <th>carrier_count_per month</th>\n",
       "      <th>deptime_cos</th>\n",
       "      <th>deptime_sin</th>\n",
       "      <th>flightUC</th>\n",
       "      <th>DestUC</th>\n",
       "      <th>OriginUC</th>\n",
       "    </tr>\n",
       "  </thead>\n",
       "  <tbody>\n",
       "    <tr>\n",
       "      <th>0</th>\n",
       "      <td>8</td>\n",
       "      <td>21</td>\n",
       "      <td>7</td>\n",
       "      <td>AA</td>\n",
       "      <td>ATL</td>\n",
       "      <td>DFW</td>\n",
       "      <td>732</td>\n",
       "      <td>0.0</td>\n",
       "      <td>ATLDFW</td>\n",
       "      <td>0</td>\n",
       "      <td>0</td>\n",
       "      <td>1</td>\n",
       "      <td>19</td>\n",
       "      <td>0</td>\n",
       "      <td>0</td>\n",
       "      <td>1</td>\n",
       "      <td>0</td>\n",
       "      <td>0</td>\n",
       "      <td>0</td>\n",
       "      <td>1</td>\n",
       "      <td>0</td>\n",
       "      <td>1</td>\n",
       "      <td>0</td>\n",
       "      <td>746</td>\n",
       "      <td>1016</td>\n",
       "      <td>8290</td>\n",
       "      <td>11375</td>\n",
       "      <td>18024</td>\n",
       "      <td>1569</td>\n",
       "      <td>0.343660</td>\n",
       "      <td>-0.939094</td>\n",
       "      <td>ATLDFWAA</td>\n",
       "      <td>DFWAA</td>\n",
       "      <td>ATLAA</td>\n",
       "    </tr>\n",
       "    <tr>\n",
       "      <th>1</th>\n",
       "      <td>4</td>\n",
       "      <td>20</td>\n",
       "      <td>3</td>\n",
       "      <td>US</td>\n",
       "      <td>PIT</td>\n",
       "      <td>MCO</td>\n",
       "      <td>834</td>\n",
       "      <td>0.0</td>\n",
       "      <td>PITMCO</td>\n",
       "      <td>0</td>\n",
       "      <td>0</td>\n",
       "      <td>1</td>\n",
       "      <td>15</td>\n",
       "      <td>0</td>\n",
       "      <td>1</td>\n",
       "      <td>0</td>\n",
       "      <td>0</td>\n",
       "      <td>0</td>\n",
       "      <td>1</td>\n",
       "      <td>0</td>\n",
       "      <td>0</td>\n",
       "      <td>0</td>\n",
       "      <td>1</td>\n",
       "      <td>313</td>\n",
       "      <td>105</td>\n",
       "      <td>3523</td>\n",
       "      <td>1390</td>\n",
       "      <td>13069</td>\n",
       "      <td>1094</td>\n",
       "      <td>-0.612907</td>\n",
       "      <td>-0.790155</td>\n",
       "      <td>PITMCOUS</td>\n",
       "      <td>MCOUS</td>\n",
       "      <td>PITUS</td>\n",
       "    </tr>\n",
       "    <tr>\n",
       "      <th>2</th>\n",
       "      <td>9</td>\n",
       "      <td>2</td>\n",
       "      <td>5</td>\n",
       "      <td>XE</td>\n",
       "      <td>RDU</td>\n",
       "      <td>CLE</td>\n",
       "      <td>416</td>\n",
       "      <td>0.0</td>\n",
       "      <td>RDUCLE</td>\n",
       "      <td>1</td>\n",
       "      <td>0</td>\n",
       "      <td>0</td>\n",
       "      <td>14</td>\n",
       "      <td>0</td>\n",
       "      <td>1</td>\n",
       "      <td>0</td>\n",
       "      <td>0</td>\n",
       "      <td>0</td>\n",
       "      <td>0</td>\n",
       "      <td>0</td>\n",
       "      <td>1</td>\n",
       "      <td>1</td>\n",
       "      <td>0</td>\n",
       "      <td>166</td>\n",
       "      <td>136</td>\n",
       "      <td>2246</td>\n",
       "      <td>1747</td>\n",
       "      <td>11737</td>\n",
       "      <td>977</td>\n",
       "      <td>-0.835807</td>\n",
       "      <td>-0.549023</td>\n",
       "      <td>RDUCLEXE</td>\n",
       "      <td>CLEXE</td>\n",
       "      <td>RDUXE</td>\n",
       "    </tr>\n",
       "    <tr>\n",
       "      <th>3</th>\n",
       "      <td>11</td>\n",
       "      <td>25</td>\n",
       "      <td>6</td>\n",
       "      <td>OO</td>\n",
       "      <td>DEN</td>\n",
       "      <td>MEM</td>\n",
       "      <td>872</td>\n",
       "      <td>0.0</td>\n",
       "      <td>DENMEM</td>\n",
       "      <td>0</td>\n",
       "      <td>0</td>\n",
       "      <td>1</td>\n",
       "      <td>10</td>\n",
       "      <td>1</td>\n",
       "      <td>0</td>\n",
       "      <td>0</td>\n",
       "      <td>0</td>\n",
       "      <td>0</td>\n",
       "      <td>0</td>\n",
       "      <td>0</td>\n",
       "      <td>1</td>\n",
       "      <td>1</td>\n",
       "      <td>0</td>\n",
       "      <td>136</td>\n",
       "      <td>514</td>\n",
       "      <td>1785</td>\n",
       "      <td>6222</td>\n",
       "      <td>15343</td>\n",
       "      <td>1242</td>\n",
       "      <td>-0.884988</td>\n",
       "      <td>0.465615</td>\n",
       "      <td>DENMEMOO</td>\n",
       "      <td>MEMOO</td>\n",
       "      <td>DENOO</td>\n",
       "    </tr>\n",
       "    <tr>\n",
       "      <th>4</th>\n",
       "      <td>10</td>\n",
       "      <td>7</td>\n",
       "      <td>6</td>\n",
       "      <td>WN</td>\n",
       "      <td>MDW</td>\n",
       "      <td>OMA</td>\n",
       "      <td>423</td>\n",
       "      <td>1.0</td>\n",
       "      <td>MDWOMA</td>\n",
       "      <td>1</td>\n",
       "      <td>0</td>\n",
       "      <td>0</td>\n",
       "      <td>18</td>\n",
       "      <td>0</td>\n",
       "      <td>1</td>\n",
       "      <td>0</td>\n",
       "      <td>0</td>\n",
       "      <td>0</td>\n",
       "      <td>0</td>\n",
       "      <td>0</td>\n",
       "      <td>1</td>\n",
       "      <td>1</td>\n",
       "      <td>0</td>\n",
       "      <td>48</td>\n",
       "      <td>226</td>\n",
       "      <td>687</td>\n",
       "      <td>2571</td>\n",
       "      <td>30958</td>\n",
       "      <td>2674</td>\n",
       "      <td>0.073238</td>\n",
       "      <td>-0.997314</td>\n",
       "      <td>MDWOMAWN</td>\n",
       "      <td>OMAWN</td>\n",
       "      <td>MDWWN</td>\n",
       "    </tr>\n",
       "  </tbody>\n",
       "</table>\n",
       "</div>"
      ],
      "text/plain": [
       "   Month  DayofMonth  DayOfWeek UniqueCarrier Origin Dest  Distance  \\\n",
       "0      8          21          7            AA    ATL  DFW       732   \n",
       "1      4          20          3            US    PIT  MCO       834   \n",
       "2      9           2          5            XE    RDU  CLE       416   \n",
       "3     11          25          6            OO    DEN  MEM       872   \n",
       "4     10           7          6            WN    MDW  OMA       423   \n",
       "\n",
       "   dep_delayed_15min  flight  begin_of_month  midddle_of_month  end_of_month  \\\n",
       "0                0.0  ATLDFW               0                 0             1   \n",
       "1                0.0  PITMCO               0                 0             1   \n",
       "2                0.0  RDUCLE               1                 0             0   \n",
       "3                0.0  DENMEM               0                 0             1   \n",
       "4                1.0  MDWOMA               1                 0             0   \n",
       "\n",
       "   hour  morning  day  evening  night  winter  spring  summer  autumn  \\\n",
       "0    19        0    0        1      0       0       0       1       0   \n",
       "1    15        0    1        0      0       0       1       0       0   \n",
       "2    14        0    1        0      0       0       0       0       1   \n",
       "3    10        1    0        0      0       0       0       0       1   \n",
       "4    18        0    1        0      0       0       0       0       1   \n",
       "\n",
       "   holiday  weekday  airport_dest_per_month  airport_origin_per_month  \\\n",
       "0        1        0                     746                      1016   \n",
       "1        0        1                     313                       105   \n",
       "2        1        0                     166                       136   \n",
       "3        1        0                     136                       514   \n",
       "4        1        0                      48                       226   \n",
       "\n",
       "   airport_dest_count  airport_origin_count  carrier_count  \\\n",
       "0                8290                 11375          18024   \n",
       "1                3523                  1390          13069   \n",
       "2                2246                  1747          11737   \n",
       "3                1785                  6222          15343   \n",
       "4                 687                  2571          30958   \n",
       "\n",
       "   carrier_count_per month  deptime_cos  deptime_sin  flightUC DestUC OriginUC  \n",
       "0                     1569     0.343660    -0.939094  ATLDFWAA  DFWAA    ATLAA  \n",
       "1                     1094    -0.612907    -0.790155  PITMCOUS  MCOUS    PITUS  \n",
       "2                      977    -0.835807    -0.549023  RDUCLEXE  CLEXE    RDUXE  \n",
       "3                     1242    -0.884988     0.465615  DENMEMOO  MEMOO    DENOO  \n",
       "4                     2674     0.073238    -0.997314  MDWOMAWN  OMAWN    MDWWN  "
      ]
     },
     "execution_count": 63,
     "metadata": {},
     "output_type": "execute_result"
    }
   ],
   "source": [
    "full_df.head()"
   ]
  },
  {
   "cell_type": "code",
   "execution_count": 64,
   "metadata": {},
   "outputs": [
    {
     "data": {
      "text/plain": [
       "Month                            0\n",
       "DayofMonth                       0\n",
       "DayOfWeek                        0\n",
       "UniqueCarrier                    0\n",
       "Origin                           0\n",
       "Dest                             0\n",
       "Distance                         0\n",
       "dep_delayed_15min           100000\n",
       "flight                           0\n",
       "begin_of_month                   0\n",
       "midddle_of_month                 0\n",
       "end_of_month                     0\n",
       "hour                             0\n",
       "morning                          0\n",
       "day                              0\n",
       "evening                          0\n",
       "night                            0\n",
       "winter                           0\n",
       "spring                           0\n",
       "summer                           0\n",
       "autumn                           0\n",
       "holiday                          0\n",
       "weekday                          0\n",
       "airport_dest_per_month           0\n",
       "airport_origin_per_month         0\n",
       "airport_dest_count               0\n",
       "airport_origin_count             0\n",
       "carrier_count                    0\n",
       "carrier_count_per month          0\n",
       "deptime_cos                      0\n",
       "deptime_sin                      0\n",
       "flightUC                         0\n",
       "DestUC                           0\n",
       "OriginUC                         0\n",
       "dtype: int64"
      ]
     },
     "execution_count": 64,
     "metadata": {},
     "output_type": "execute_result"
    }
   ],
   "source": [
    "full_df.isna().sum()"
   ]
  },
  {
   "cell_type": "markdown",
   "metadata": {
    "colab_type": "text",
    "id": "GSO8JbfM_W-F"
   },
   "source": [
    "Apply the earlier defined feature engineering functions to the full dataframe."
   ]
  },
  {
   "cell_type": "code",
   "execution_count": 65,
   "metadata": {
    "colab": {},
    "colab_type": "code",
    "id": "x6RfAINftjwi"
   },
   "outputs": [],
   "source": [
    "for column in ['UniqueCarrier', 'Origin', 'Dest','flight',  'flightUC', 'DestUC', 'OriginUC']:\n",
    "    full_df[column] = label_enc(full_df[column])"
   ]
  },
  {
   "cell_type": "code",
   "execution_count": 66,
   "metadata": {},
   "outputs": [
    {
     "data": {
      "text/html": [
       "<div>\n",
       "<style scoped>\n",
       "    .dataframe tbody tr th:only-of-type {\n",
       "        vertical-align: middle;\n",
       "    }\n",
       "\n",
       "    .dataframe tbody tr th {\n",
       "        vertical-align: top;\n",
       "    }\n",
       "\n",
       "    .dataframe thead th {\n",
       "        text-align: right;\n",
       "    }\n",
       "</style>\n",
       "<table border=\"1\" class=\"dataframe\">\n",
       "  <thead>\n",
       "    <tr style=\"text-align: right;\">\n",
       "      <th></th>\n",
       "      <th>Month</th>\n",
       "      <th>DayofMonth</th>\n",
       "      <th>DayOfWeek</th>\n",
       "      <th>UniqueCarrier</th>\n",
       "      <th>Origin</th>\n",
       "      <th>Dest</th>\n",
       "      <th>Distance</th>\n",
       "      <th>dep_delayed_15min</th>\n",
       "      <th>flight</th>\n",
       "      <th>begin_of_month</th>\n",
       "      <th>midddle_of_month</th>\n",
       "      <th>end_of_month</th>\n",
       "      <th>hour</th>\n",
       "      <th>morning</th>\n",
       "      <th>day</th>\n",
       "      <th>evening</th>\n",
       "      <th>night</th>\n",
       "      <th>winter</th>\n",
       "      <th>spring</th>\n",
       "      <th>summer</th>\n",
       "      <th>autumn</th>\n",
       "      <th>holiday</th>\n",
       "      <th>weekday</th>\n",
       "      <th>airport_dest_per_month</th>\n",
       "      <th>airport_origin_per_month</th>\n",
       "      <th>airport_dest_count</th>\n",
       "      <th>airport_origin_count</th>\n",
       "      <th>carrier_count</th>\n",
       "      <th>carrier_count_per month</th>\n",
       "      <th>deptime_cos</th>\n",
       "      <th>deptime_sin</th>\n",
       "      <th>flightUC</th>\n",
       "      <th>DestUC</th>\n",
       "      <th>OriginUC</th>\n",
       "    </tr>\n",
       "  </thead>\n",
       "  <tbody>\n",
       "    <tr>\n",
       "      <th>0</th>\n",
       "      <td>8</td>\n",
       "      <td>21</td>\n",
       "      <td>7</td>\n",
       "      <td>1</td>\n",
       "      <td>19</td>\n",
       "      <td>82</td>\n",
       "      <td>732</td>\n",
       "      <td>0.0</td>\n",
       "      <td>171</td>\n",
       "      <td>0</td>\n",
       "      <td>0</td>\n",
       "      <td>1</td>\n",
       "      <td>19</td>\n",
       "      <td>0</td>\n",
       "      <td>0</td>\n",
       "      <td>1</td>\n",
       "      <td>0</td>\n",
       "      <td>0</td>\n",
       "      <td>0</td>\n",
       "      <td>1</td>\n",
       "      <td>0</td>\n",
       "      <td>1</td>\n",
       "      <td>0</td>\n",
       "      <td>746</td>\n",
       "      <td>1016</td>\n",
       "      <td>8290</td>\n",
       "      <td>11375</td>\n",
       "      <td>18024</td>\n",
       "      <td>1569</td>\n",
       "      <td>0.343660</td>\n",
       "      <td>-0.939094</td>\n",
       "      <td>265</td>\n",
       "      <td>494</td>\n",
       "      <td>67</td>\n",
       "    </tr>\n",
       "    <tr>\n",
       "      <th>1</th>\n",
       "      <td>4</td>\n",
       "      <td>20</td>\n",
       "      <td>3</td>\n",
       "      <td>19</td>\n",
       "      <td>226</td>\n",
       "      <td>180</td>\n",
       "      <td>834</td>\n",
       "      <td>0.0</td>\n",
       "      <td>3986</td>\n",
       "      <td>0</td>\n",
       "      <td>0</td>\n",
       "      <td>1</td>\n",
       "      <td>15</td>\n",
       "      <td>0</td>\n",
       "      <td>1</td>\n",
       "      <td>0</td>\n",
       "      <td>0</td>\n",
       "      <td>0</td>\n",
       "      <td>1</td>\n",
       "      <td>0</td>\n",
       "      <td>0</td>\n",
       "      <td>0</td>\n",
       "      <td>1</td>\n",
       "      <td>313</td>\n",
       "      <td>105</td>\n",
       "      <td>3523</td>\n",
       "      <td>1390</td>\n",
       "      <td>13069</td>\n",
       "      <td>1094</td>\n",
       "      <td>-0.612907</td>\n",
       "      <td>-0.790155</td>\n",
       "      <td>6907</td>\n",
       "      <td>1085</td>\n",
       "      <td>1441</td>\n",
       "    </tr>\n",
       "    <tr>\n",
       "      <th>2</th>\n",
       "      <td>9</td>\n",
       "      <td>2</td>\n",
       "      <td>5</td>\n",
       "      <td>21</td>\n",
       "      <td>239</td>\n",
       "      <td>62</td>\n",
       "      <td>416</td>\n",
       "      <td>0.0</td>\n",
       "      <td>4091</td>\n",
       "      <td>1</td>\n",
       "      <td>0</td>\n",
       "      <td>0</td>\n",
       "      <td>14</td>\n",
       "      <td>0</td>\n",
       "      <td>1</td>\n",
       "      <td>0</td>\n",
       "      <td>0</td>\n",
       "      <td>0</td>\n",
       "      <td>0</td>\n",
       "      <td>0</td>\n",
       "      <td>1</td>\n",
       "      <td>1</td>\n",
       "      <td>0</td>\n",
       "      <td>166</td>\n",
       "      <td>136</td>\n",
       "      <td>2246</td>\n",
       "      <td>1747</td>\n",
       "      <td>11737</td>\n",
       "      <td>977</td>\n",
       "      <td>-0.835807</td>\n",
       "      <td>-0.549023</td>\n",
       "      <td>7064</td>\n",
       "      <td>359</td>\n",
       "      <td>1518</td>\n",
       "    </tr>\n",
       "    <tr>\n",
       "      <th>3</th>\n",
       "      <td>11</td>\n",
       "      <td>25</td>\n",
       "      <td>6</td>\n",
       "      <td>16</td>\n",
       "      <td>81</td>\n",
       "      <td>184</td>\n",
       "      <td>872</td>\n",
       "      <td>0.0</td>\n",
       "      <td>1304</td>\n",
       "      <td>0</td>\n",
       "      <td>0</td>\n",
       "      <td>1</td>\n",
       "      <td>10</td>\n",
       "      <td>1</td>\n",
       "      <td>0</td>\n",
       "      <td>0</td>\n",
       "      <td>0</td>\n",
       "      <td>0</td>\n",
       "      <td>0</td>\n",
       "      <td>0</td>\n",
       "      <td>1</td>\n",
       "      <td>1</td>\n",
       "      <td>0</td>\n",
       "      <td>136</td>\n",
       "      <td>514</td>\n",
       "      <td>1785</td>\n",
       "      <td>6222</td>\n",
       "      <td>15343</td>\n",
       "      <td>1242</td>\n",
       "      <td>-0.884988</td>\n",
       "      <td>0.465615</td>\n",
       "      <td>2258</td>\n",
       "      <td>1122</td>\n",
       "      <td>484</td>\n",
       "    </tr>\n",
       "    <tr>\n",
       "      <th>4</th>\n",
       "      <td>10</td>\n",
       "      <td>7</td>\n",
       "      <td>6</td>\n",
       "      <td>20</td>\n",
       "      <td>182</td>\n",
       "      <td>210</td>\n",
       "      <td>423</td>\n",
       "      <td>1.0</td>\n",
       "      <td>2979</td>\n",
       "      <td>1</td>\n",
       "      <td>0</td>\n",
       "      <td>0</td>\n",
       "      <td>18</td>\n",
       "      <td>0</td>\n",
       "      <td>1</td>\n",
       "      <td>0</td>\n",
       "      <td>0</td>\n",
       "      <td>0</td>\n",
       "      <td>0</td>\n",
       "      <td>0</td>\n",
       "      <td>1</td>\n",
       "      <td>1</td>\n",
       "      <td>0</td>\n",
       "      <td>48</td>\n",
       "      <td>226</td>\n",
       "      <td>687</td>\n",
       "      <td>2571</td>\n",
       "      <td>30958</td>\n",
       "      <td>2674</td>\n",
       "      <td>0.073238</td>\n",
       "      <td>-0.997314</td>\n",
       "      <td>5144</td>\n",
       "      <td>1313</td>\n",
       "      <td>1103</td>\n",
       "    </tr>\n",
       "  </tbody>\n",
       "</table>\n",
       "</div>"
      ],
      "text/plain": [
       "   Month  DayofMonth  DayOfWeek  UniqueCarrier  Origin  Dest  Distance  \\\n",
       "0      8          21          7              1      19    82       732   \n",
       "1      4          20          3             19     226   180       834   \n",
       "2      9           2          5             21     239    62       416   \n",
       "3     11          25          6             16      81   184       872   \n",
       "4     10           7          6             20     182   210       423   \n",
       "\n",
       "   dep_delayed_15min  flight  begin_of_month  midddle_of_month  end_of_month  \\\n",
       "0                0.0     171               0                 0             1   \n",
       "1                0.0    3986               0                 0             1   \n",
       "2                0.0    4091               1                 0             0   \n",
       "3                0.0    1304               0                 0             1   \n",
       "4                1.0    2979               1                 0             0   \n",
       "\n",
       "   hour  morning  day  evening  night  winter  spring  summer  autumn  \\\n",
       "0    19        0    0        1      0       0       0       1       0   \n",
       "1    15        0    1        0      0       0       1       0       0   \n",
       "2    14        0    1        0      0       0       0       0       1   \n",
       "3    10        1    0        0      0       0       0       0       1   \n",
       "4    18        0    1        0      0       0       0       0       1   \n",
       "\n",
       "   holiday  weekday  airport_dest_per_month  airport_origin_per_month  \\\n",
       "0        1        0                     746                      1016   \n",
       "1        0        1                     313                       105   \n",
       "2        1        0                     166                       136   \n",
       "3        1        0                     136                       514   \n",
       "4        1        0                      48                       226   \n",
       "\n",
       "   airport_dest_count  airport_origin_count  carrier_count  \\\n",
       "0                8290                 11375          18024   \n",
       "1                3523                  1390          13069   \n",
       "2                2246                  1747          11737   \n",
       "3                1785                  6222          15343   \n",
       "4                 687                  2571          30958   \n",
       "\n",
       "   carrier_count_per month  deptime_cos  deptime_sin  flightUC  DestUC  \\\n",
       "0                     1569     0.343660    -0.939094       265     494   \n",
       "1                     1094    -0.612907    -0.790155      6907    1085   \n",
       "2                      977    -0.835807    -0.549023      7064     359   \n",
       "3                     1242    -0.884988     0.465615      2258    1122   \n",
       "4                     2674     0.073238    -0.997314      5144    1313   \n",
       "\n",
       "   OriginUC  \n",
       "0        67  \n",
       "1      1441  \n",
       "2      1518  \n",
       "3       484  \n",
       "4      1103  "
      ]
     },
     "execution_count": 66,
     "metadata": {},
     "output_type": "execute_result"
    }
   ],
   "source": [
    "full_df.head()      # now  full_df is all numeric df"
   ]
  },
  {
   "cell_type": "code",
   "execution_count": 67,
   "metadata": {},
   "outputs": [
    {
     "data": {
      "text/plain": [
       "Month                         12\n",
       "DayofMonth                    31\n",
       "DayOfWeek                      7\n",
       "UniqueCarrier                 23\n",
       "Origin                       307\n",
       "Dest                         307\n",
       "Distance                    1390\n",
       "dep_delayed_15min              2\n",
       "flight                      5048\n",
       "begin_of_month                 2\n",
       "midddle_of_month               2\n",
       "end_of_month                   2\n",
       "hour                          25\n",
       "morning                        2\n",
       "day                            2\n",
       "evening                        2\n",
       "night                          2\n",
       "winter                         2\n",
       "spring                         2\n",
       "summer                         2\n",
       "autumn                         2\n",
       "holiday                        2\n",
       "weekday                        2\n",
       "airport_dest_per_month       396\n",
       "airport_origin_per_month     388\n",
       "airport_dest_count           228\n",
       "airport_origin_count         221\n",
       "carrier_count                 23\n",
       "carrier_count_per month      248\n",
       "deptime_cos                 1316\n",
       "deptime_sin                 1310\n",
       "flightUC                    8593\n",
       "DestUC                      1956\n",
       "OriginUC                    1944\n",
       "dtype: int64"
      ]
     },
     "execution_count": 67,
     "metadata": {},
     "output_type": "execute_result"
    }
   ],
   "source": [
    "full_df.nunique()"
   ]
  },
  {
   "cell_type": "markdown",
   "metadata": {
    "colab_type": "text",
    "id": "IJAw1RGB_ZuM"
   },
   "source": [
    "\n",
    "Split the new full dataframe into X_train and X_test. "
   ]
  },
  {
   "cell_type": "code",
   "execution_count": 68,
   "metadata": {
    "colab": {},
    "colab_type": "code",
    "id": "15cPtQU5tjfz"
   },
   "outputs": [],
   "source": [
    "train_df_new = full_df[:train_df.shape[0]]\n",
    "test_df_new= full_df[train_df.shape[0]:]"
   ]
  },
  {
   "cell_type": "code",
   "execution_count": 69,
   "metadata": {},
   "outputs": [
    {
     "data": {
      "text/html": [
       "<div>\n",
       "<style scoped>\n",
       "    .dataframe tbody tr th:only-of-type {\n",
       "        vertical-align: middle;\n",
       "    }\n",
       "\n",
       "    .dataframe tbody tr th {\n",
       "        vertical-align: top;\n",
       "    }\n",
       "\n",
       "    .dataframe thead th {\n",
       "        text-align: right;\n",
       "    }\n",
       "</style>\n",
       "<table border=\"1\" class=\"dataframe\">\n",
       "  <thead>\n",
       "    <tr style=\"text-align: right;\">\n",
       "      <th></th>\n",
       "      <th>Month</th>\n",
       "      <th>DayofMonth</th>\n",
       "      <th>DayOfWeek</th>\n",
       "      <th>UniqueCarrier</th>\n",
       "      <th>Origin</th>\n",
       "      <th>Dest</th>\n",
       "      <th>Distance</th>\n",
       "      <th>dep_delayed_15min</th>\n",
       "      <th>flight</th>\n",
       "      <th>begin_of_month</th>\n",
       "      <th>midddle_of_month</th>\n",
       "      <th>end_of_month</th>\n",
       "      <th>hour</th>\n",
       "      <th>morning</th>\n",
       "      <th>day</th>\n",
       "      <th>evening</th>\n",
       "      <th>night</th>\n",
       "      <th>winter</th>\n",
       "      <th>spring</th>\n",
       "      <th>summer</th>\n",
       "      <th>autumn</th>\n",
       "      <th>holiday</th>\n",
       "      <th>weekday</th>\n",
       "      <th>airport_dest_per_month</th>\n",
       "      <th>airport_origin_per_month</th>\n",
       "      <th>airport_dest_count</th>\n",
       "      <th>airport_origin_count</th>\n",
       "      <th>carrier_count</th>\n",
       "      <th>carrier_count_per month</th>\n",
       "      <th>deptime_cos</th>\n",
       "      <th>deptime_sin</th>\n",
       "      <th>flightUC</th>\n",
       "      <th>DestUC</th>\n",
       "      <th>OriginUC</th>\n",
       "    </tr>\n",
       "  </thead>\n",
       "  <tbody>\n",
       "    <tr>\n",
       "      <th>0</th>\n",
       "      <td>8</td>\n",
       "      <td>21</td>\n",
       "      <td>7</td>\n",
       "      <td>1</td>\n",
       "      <td>19</td>\n",
       "      <td>82</td>\n",
       "      <td>732</td>\n",
       "      <td>0.0</td>\n",
       "      <td>171</td>\n",
       "      <td>0</td>\n",
       "      <td>0</td>\n",
       "      <td>1</td>\n",
       "      <td>19</td>\n",
       "      <td>0</td>\n",
       "      <td>0</td>\n",
       "      <td>1</td>\n",
       "      <td>0</td>\n",
       "      <td>0</td>\n",
       "      <td>0</td>\n",
       "      <td>1</td>\n",
       "      <td>0</td>\n",
       "      <td>1</td>\n",
       "      <td>0</td>\n",
       "      <td>746</td>\n",
       "      <td>1016</td>\n",
       "      <td>8290</td>\n",
       "      <td>11375</td>\n",
       "      <td>18024</td>\n",
       "      <td>1569</td>\n",
       "      <td>0.343660</td>\n",
       "      <td>-0.939094</td>\n",
       "      <td>265</td>\n",
       "      <td>494</td>\n",
       "      <td>67</td>\n",
       "    </tr>\n",
       "    <tr>\n",
       "      <th>1</th>\n",
       "      <td>4</td>\n",
       "      <td>20</td>\n",
       "      <td>3</td>\n",
       "      <td>19</td>\n",
       "      <td>226</td>\n",
       "      <td>180</td>\n",
       "      <td>834</td>\n",
       "      <td>0.0</td>\n",
       "      <td>3986</td>\n",
       "      <td>0</td>\n",
       "      <td>0</td>\n",
       "      <td>1</td>\n",
       "      <td>15</td>\n",
       "      <td>0</td>\n",
       "      <td>1</td>\n",
       "      <td>0</td>\n",
       "      <td>0</td>\n",
       "      <td>0</td>\n",
       "      <td>1</td>\n",
       "      <td>0</td>\n",
       "      <td>0</td>\n",
       "      <td>0</td>\n",
       "      <td>1</td>\n",
       "      <td>313</td>\n",
       "      <td>105</td>\n",
       "      <td>3523</td>\n",
       "      <td>1390</td>\n",
       "      <td>13069</td>\n",
       "      <td>1094</td>\n",
       "      <td>-0.612907</td>\n",
       "      <td>-0.790155</td>\n",
       "      <td>6907</td>\n",
       "      <td>1085</td>\n",
       "      <td>1441</td>\n",
       "    </tr>\n",
       "    <tr>\n",
       "      <th>2</th>\n",
       "      <td>9</td>\n",
       "      <td>2</td>\n",
       "      <td>5</td>\n",
       "      <td>21</td>\n",
       "      <td>239</td>\n",
       "      <td>62</td>\n",
       "      <td>416</td>\n",
       "      <td>0.0</td>\n",
       "      <td>4091</td>\n",
       "      <td>1</td>\n",
       "      <td>0</td>\n",
       "      <td>0</td>\n",
       "      <td>14</td>\n",
       "      <td>0</td>\n",
       "      <td>1</td>\n",
       "      <td>0</td>\n",
       "      <td>0</td>\n",
       "      <td>0</td>\n",
       "      <td>0</td>\n",
       "      <td>0</td>\n",
       "      <td>1</td>\n",
       "      <td>1</td>\n",
       "      <td>0</td>\n",
       "      <td>166</td>\n",
       "      <td>136</td>\n",
       "      <td>2246</td>\n",
       "      <td>1747</td>\n",
       "      <td>11737</td>\n",
       "      <td>977</td>\n",
       "      <td>-0.835807</td>\n",
       "      <td>-0.549023</td>\n",
       "      <td>7064</td>\n",
       "      <td>359</td>\n",
       "      <td>1518</td>\n",
       "    </tr>\n",
       "    <tr>\n",
       "      <th>3</th>\n",
       "      <td>11</td>\n",
       "      <td>25</td>\n",
       "      <td>6</td>\n",
       "      <td>16</td>\n",
       "      <td>81</td>\n",
       "      <td>184</td>\n",
       "      <td>872</td>\n",
       "      <td>0.0</td>\n",
       "      <td>1304</td>\n",
       "      <td>0</td>\n",
       "      <td>0</td>\n",
       "      <td>1</td>\n",
       "      <td>10</td>\n",
       "      <td>1</td>\n",
       "      <td>0</td>\n",
       "      <td>0</td>\n",
       "      <td>0</td>\n",
       "      <td>0</td>\n",
       "      <td>0</td>\n",
       "      <td>0</td>\n",
       "      <td>1</td>\n",
       "      <td>1</td>\n",
       "      <td>0</td>\n",
       "      <td>136</td>\n",
       "      <td>514</td>\n",
       "      <td>1785</td>\n",
       "      <td>6222</td>\n",
       "      <td>15343</td>\n",
       "      <td>1242</td>\n",
       "      <td>-0.884988</td>\n",
       "      <td>0.465615</td>\n",
       "      <td>2258</td>\n",
       "      <td>1122</td>\n",
       "      <td>484</td>\n",
       "    </tr>\n",
       "    <tr>\n",
       "      <th>4</th>\n",
       "      <td>10</td>\n",
       "      <td>7</td>\n",
       "      <td>6</td>\n",
       "      <td>20</td>\n",
       "      <td>182</td>\n",
       "      <td>210</td>\n",
       "      <td>423</td>\n",
       "      <td>1.0</td>\n",
       "      <td>2979</td>\n",
       "      <td>1</td>\n",
       "      <td>0</td>\n",
       "      <td>0</td>\n",
       "      <td>18</td>\n",
       "      <td>0</td>\n",
       "      <td>1</td>\n",
       "      <td>0</td>\n",
       "      <td>0</td>\n",
       "      <td>0</td>\n",
       "      <td>0</td>\n",
       "      <td>0</td>\n",
       "      <td>1</td>\n",
       "      <td>1</td>\n",
       "      <td>0</td>\n",
       "      <td>48</td>\n",
       "      <td>226</td>\n",
       "      <td>687</td>\n",
       "      <td>2571</td>\n",
       "      <td>30958</td>\n",
       "      <td>2674</td>\n",
       "      <td>0.073238</td>\n",
       "      <td>-0.997314</td>\n",
       "      <td>5144</td>\n",
       "      <td>1313</td>\n",
       "      <td>1103</td>\n",
       "    </tr>\n",
       "  </tbody>\n",
       "</table>\n",
       "</div>"
      ],
      "text/plain": [
       "   Month  DayofMonth  DayOfWeek  UniqueCarrier  Origin  Dest  Distance  \\\n",
       "0      8          21          7              1      19    82       732   \n",
       "1      4          20          3             19     226   180       834   \n",
       "2      9           2          5             21     239    62       416   \n",
       "3     11          25          6             16      81   184       872   \n",
       "4     10           7          6             20     182   210       423   \n",
       "\n",
       "   dep_delayed_15min  flight  begin_of_month  midddle_of_month  end_of_month  \\\n",
       "0                0.0     171               0                 0             1   \n",
       "1                0.0    3986               0                 0             1   \n",
       "2                0.0    4091               1                 0             0   \n",
       "3                0.0    1304               0                 0             1   \n",
       "4                1.0    2979               1                 0             0   \n",
       "\n",
       "   hour  morning  day  evening  night  winter  spring  summer  autumn  \\\n",
       "0    19        0    0        1      0       0       0       1       0   \n",
       "1    15        0    1        0      0       0       1       0       0   \n",
       "2    14        0    1        0      0       0       0       0       1   \n",
       "3    10        1    0        0      0       0       0       0       1   \n",
       "4    18        0    1        0      0       0       0       0       1   \n",
       "\n",
       "   holiday  weekday  airport_dest_per_month  airport_origin_per_month  \\\n",
       "0        1        0                     746                      1016   \n",
       "1        0        1                     313                       105   \n",
       "2        1        0                     166                       136   \n",
       "3        1        0                     136                       514   \n",
       "4        1        0                      48                       226   \n",
       "\n",
       "   airport_dest_count  airport_origin_count  carrier_count  \\\n",
       "0                8290                 11375          18024   \n",
       "1                3523                  1390          13069   \n",
       "2                2246                  1747          11737   \n",
       "3                1785                  6222          15343   \n",
       "4                 687                  2571          30958   \n",
       "\n",
       "   carrier_count_per month  deptime_cos  deptime_sin  flightUC  DestUC  \\\n",
       "0                     1569     0.343660    -0.939094       265     494   \n",
       "1                     1094    -0.612907    -0.790155      6907    1085   \n",
       "2                      977    -0.835807    -0.549023      7064     359   \n",
       "3                     1242    -0.884988     0.465615      2258    1122   \n",
       "4                     2674     0.073238    -0.997314      5144    1313   \n",
       "\n",
       "   OriginUC  \n",
       "0        67  \n",
       "1      1441  \n",
       "2      1518  \n",
       "3       484  \n",
       "4      1103  "
      ]
     },
     "execution_count": 69,
     "metadata": {},
     "output_type": "execute_result"
    }
   ],
   "source": [
    "train_df_new.head()"
   ]
  },
  {
   "cell_type": "code",
   "execution_count": 70,
   "metadata": {},
   "outputs": [
    {
     "data": {
      "text/html": [
       "<div>\n",
       "<style scoped>\n",
       "    .dataframe tbody tr th:only-of-type {\n",
       "        vertical-align: middle;\n",
       "    }\n",
       "\n",
       "    .dataframe tbody tr th {\n",
       "        vertical-align: top;\n",
       "    }\n",
       "\n",
       "    .dataframe thead th {\n",
       "        text-align: right;\n",
       "    }\n",
       "</style>\n",
       "<table border=\"1\" class=\"dataframe\">\n",
       "  <thead>\n",
       "    <tr style=\"text-align: right;\">\n",
       "      <th></th>\n",
       "      <th>Month</th>\n",
       "      <th>DayofMonth</th>\n",
       "      <th>DayOfWeek</th>\n",
       "      <th>UniqueCarrier</th>\n",
       "      <th>Origin</th>\n",
       "      <th>Dest</th>\n",
       "      <th>Distance</th>\n",
       "      <th>dep_delayed_15min</th>\n",
       "      <th>flight</th>\n",
       "      <th>begin_of_month</th>\n",
       "      <th>midddle_of_month</th>\n",
       "      <th>end_of_month</th>\n",
       "      <th>hour</th>\n",
       "      <th>morning</th>\n",
       "      <th>day</th>\n",
       "      <th>evening</th>\n",
       "      <th>night</th>\n",
       "      <th>winter</th>\n",
       "      <th>spring</th>\n",
       "      <th>summer</th>\n",
       "      <th>autumn</th>\n",
       "      <th>holiday</th>\n",
       "      <th>weekday</th>\n",
       "      <th>airport_dest_per_month</th>\n",
       "      <th>airport_origin_per_month</th>\n",
       "      <th>airport_dest_count</th>\n",
       "      <th>airport_origin_count</th>\n",
       "      <th>carrier_count</th>\n",
       "      <th>carrier_count_per month</th>\n",
       "      <th>deptime_cos</th>\n",
       "      <th>deptime_sin</th>\n",
       "      <th>flightUC</th>\n",
       "      <th>DestUC</th>\n",
       "      <th>OriginUC</th>\n",
       "    </tr>\n",
       "  </thead>\n",
       "  <tbody>\n",
       "    <tr>\n",
       "      <th>0</th>\n",
       "      <td>7</td>\n",
       "      <td>25</td>\n",
       "      <td>3</td>\n",
       "      <td>22</td>\n",
       "      <td>198</td>\n",
       "      <td>222</td>\n",
       "      <td>598</td>\n",
       "      <td>NaN</td>\n",
       "      <td>3228</td>\n",
       "      <td>0</td>\n",
       "      <td>0</td>\n",
       "      <td>1</td>\n",
       "      <td>6</td>\n",
       "      <td>0</td>\n",
       "      <td>0</td>\n",
       "      <td>0</td>\n",
       "      <td>1</td>\n",
       "      <td>0</td>\n",
       "      <td>0</td>\n",
       "      <td>1</td>\n",
       "      <td>0</td>\n",
       "      <td>0</td>\n",
       "      <td>1</td>\n",
       "      <td>446</td>\n",
       "      <td>22</td>\n",
       "      <td>5571</td>\n",
       "      <td>221</td>\n",
       "      <td>6029</td>\n",
       "      <td>518</td>\n",
       "      <td>-0.039260</td>\n",
       "      <td>0.999229</td>\n",
       "      <td>5514</td>\n",
       "      <td>1432</td>\n",
       "      <td>1190</td>\n",
       "    </tr>\n",
       "    <tr>\n",
       "      <th>1</th>\n",
       "      <td>4</td>\n",
       "      <td>17</td>\n",
       "      <td>2</td>\n",
       "      <td>20</td>\n",
       "      <td>159</td>\n",
       "      <td>132</td>\n",
       "      <td>1235</td>\n",
       "      <td>NaN</td>\n",
       "      <td>2523</td>\n",
       "      <td>0</td>\n",
       "      <td>1</td>\n",
       "      <td>0</td>\n",
       "      <td>7</td>\n",
       "      <td>1</td>\n",
       "      <td>0</td>\n",
       "      <td>0</td>\n",
       "      <td>0</td>\n",
       "      <td>0</td>\n",
       "      <td>1</td>\n",
       "      <td>0</td>\n",
       "      <td>0</td>\n",
       "      <td>0</td>\n",
       "      <td>1</td>\n",
       "      <td>130</td>\n",
       "      <td>427</td>\n",
       "      <td>1513</td>\n",
       "      <td>4932</td>\n",
       "      <td>30958</td>\n",
       "      <td>2578</td>\n",
       "      <td>-0.355923</td>\n",
       "      <td>0.934515</td>\n",
       "      <td>4285</td>\n",
       "      <td>766</td>\n",
       "      <td>950</td>\n",
       "    </tr>\n",
       "    <tr>\n",
       "      <th>2</th>\n",
       "      <td>12</td>\n",
       "      <td>2</td>\n",
       "      <td>7</td>\n",
       "      <td>13</td>\n",
       "      <td>122</td>\n",
       "      <td>213</td>\n",
       "      <td>577</td>\n",
       "      <td>NaN</td>\n",
       "      <td>1955</td>\n",
       "      <td>1</td>\n",
       "      <td>0</td>\n",
       "      <td>0</td>\n",
       "      <td>6</td>\n",
       "      <td>0</td>\n",
       "      <td>0</td>\n",
       "      <td>0</td>\n",
       "      <td>1</td>\n",
       "      <td>1</td>\n",
       "      <td>0</td>\n",
       "      <td>0</td>\n",
       "      <td>0</td>\n",
       "      <td>1</td>\n",
       "      <td>0</td>\n",
       "      <td>805</td>\n",
       "      <td>27</td>\n",
       "      <td>9877</td>\n",
       "      <td>339</td>\n",
       "      <td>14424</td>\n",
       "      <td>1194</td>\n",
       "      <td>-0.133121</td>\n",
       "      <td>0.991100</td>\n",
       "      <td>3307</td>\n",
       "      <td>1340</td>\n",
       "      <td>714</td>\n",
       "    </tr>\n",
       "    <tr>\n",
       "      <th>3</th>\n",
       "      <td>3</td>\n",
       "      <td>25</td>\n",
       "      <td>7</td>\n",
       "      <td>20</td>\n",
       "      <td>49</td>\n",
       "      <td>188</td>\n",
       "      <td>377</td>\n",
       "      <td>NaN</td>\n",
       "      <td>694</td>\n",
       "      <td>0</td>\n",
       "      <td>0</td>\n",
       "      <td>1</td>\n",
       "      <td>16</td>\n",
       "      <td>0</td>\n",
       "      <td>1</td>\n",
       "      <td>0</td>\n",
       "      <td>0</td>\n",
       "      <td>0</td>\n",
       "      <td>1</td>\n",
       "      <td>0</td>\n",
       "      <td>0</td>\n",
       "      <td>1</td>\n",
       "      <td>0</td>\n",
       "      <td>41</td>\n",
       "      <td>253</td>\n",
       "      <td>571</td>\n",
       "      <td>3029</td>\n",
       "      <td>30958</td>\n",
       "      <td>2570</td>\n",
       "      <td>-0.467930</td>\n",
       "      <td>-0.883766</td>\n",
       "      <td>1183</td>\n",
       "      <td>1145</td>\n",
       "      <td>287</td>\n",
       "    </tr>\n",
       "    <tr>\n",
       "      <th>4</th>\n",
       "      <td>6</td>\n",
       "      <td>6</td>\n",
       "      <td>3</td>\n",
       "      <td>18</td>\n",
       "      <td>213</td>\n",
       "      <td>276</td>\n",
       "      <td>258</td>\n",
       "      <td>NaN</td>\n",
       "      <td>3697</td>\n",
       "      <td>1</td>\n",
       "      <td>0</td>\n",
       "      <td>0</td>\n",
       "      <td>15</td>\n",
       "      <td>0</td>\n",
       "      <td>1</td>\n",
       "      <td>0</td>\n",
       "      <td>0</td>\n",
       "      <td>0</td>\n",
       "      <td>0</td>\n",
       "      <td>1</td>\n",
       "      <td>0</td>\n",
       "      <td>0</td>\n",
       "      <td>1</td>\n",
       "      <td>158</td>\n",
       "      <td>849</td>\n",
       "      <td>1763</td>\n",
       "      <td>9823</td>\n",
       "      <td>13311</td>\n",
       "      <td>1125</td>\n",
       "      <td>-0.697790</td>\n",
       "      <td>-0.716302</td>\n",
       "      <td>6348</td>\n",
       "      <td>1829</td>\n",
       "      <td>1331</td>\n",
       "    </tr>\n",
       "  </tbody>\n",
       "</table>\n",
       "</div>"
      ],
      "text/plain": [
       "   Month  DayofMonth  DayOfWeek  UniqueCarrier  Origin  Dest  Distance  \\\n",
       "0      7          25          3             22     198   222       598   \n",
       "1      4          17          2             20     159   132      1235   \n",
       "2     12           2          7             13     122   213       577   \n",
       "3      3          25          7             20      49   188       377   \n",
       "4      6           6          3             18     213   276       258   \n",
       "\n",
       "   dep_delayed_15min  flight  begin_of_month  midddle_of_month  end_of_month  \\\n",
       "0                NaN    3228               0                 0             1   \n",
       "1                NaN    2523               0                 1             0   \n",
       "2                NaN    1955               1                 0             0   \n",
       "3                NaN     694               0                 0             1   \n",
       "4                NaN    3697               1                 0             0   \n",
       "\n",
       "   hour  morning  day  evening  night  winter  spring  summer  autumn  \\\n",
       "0     6        0    0        0      1       0       0       1       0   \n",
       "1     7        1    0        0      0       0       1       0       0   \n",
       "2     6        0    0        0      1       1       0       0       0   \n",
       "3    16        0    1        0      0       0       1       0       0   \n",
       "4    15        0    1        0      0       0       0       1       0   \n",
       "\n",
       "   holiday  weekday  airport_dest_per_month  airport_origin_per_month  \\\n",
       "0        0        1                     446                        22   \n",
       "1        0        1                     130                       427   \n",
       "2        1        0                     805                        27   \n",
       "3        1        0                      41                       253   \n",
       "4        0        1                     158                       849   \n",
       "\n",
       "   airport_dest_count  airport_origin_count  carrier_count  \\\n",
       "0                5571                   221           6029   \n",
       "1                1513                  4932          30958   \n",
       "2                9877                   339          14424   \n",
       "3                 571                  3029          30958   \n",
       "4                1763                  9823          13311   \n",
       "\n",
       "   carrier_count_per month  deptime_cos  deptime_sin  flightUC  DestUC  \\\n",
       "0                      518    -0.039260     0.999229      5514    1432   \n",
       "1                     2578    -0.355923     0.934515      4285     766   \n",
       "2                     1194    -0.133121     0.991100      3307    1340   \n",
       "3                     2570    -0.467930    -0.883766      1183    1145   \n",
       "4                     1125    -0.697790    -0.716302      6348    1829   \n",
       "\n",
       "   OriginUC  \n",
       "0      1190  \n",
       "1       950  \n",
       "2       714  \n",
       "3       287  \n",
       "4      1331  "
      ]
     },
     "execution_count": 70,
     "metadata": {},
     "output_type": "execute_result"
    }
   ],
   "source": [
    "test_df_new.head()"
   ]
  },
  {
   "cell_type": "markdown",
   "metadata": {
    "colab_type": "text",
    "id": "umfAw-9JErLV"
   },
   "source": [
    "Create a list of the categorical features."
   ]
  },
  {
   "cell_type": "code",
   "execution_count": 71,
   "metadata": {
    "ExecuteTime": {
     "end_time": "2019-04-22T14:31:58.412296Z",
     "start_time": "2019-04-22T14:31:58.409088Z"
    },
    "colab": {},
    "colab_type": "code",
    "id": "5ibeVyNb-KZI"
   },
   "outputs": [],
   "source": [
    "categorical_features = ['UniqueCarrier', 'Origin', 'Dest','flight',  'flightUC', 'DestUC', 'OriginUC']"
   ]
  },
  {
   "cell_type": "markdown",
   "metadata": {
    "colab_type": "text",
    "id": "NzMIsMPIETVk"
   },
   "source": [
    "Let's build a light GBM model to test the bayesian optimizer."
   ]
  },
  {
   "cell_type": "markdown",
   "metadata": {
    "ExecuteTime": {
     "end_time": "2019-04-22T15:18:04.466965Z",
     "start_time": "2019-04-22T15:18:04.457992Z"
    },
    "colab_type": "text",
    "id": "2hfm1i5G-KZH"
   },
   "source": [
    "### [LightGBM](https://lightgbm.readthedocs.io/en/latest/) is a gradient boosting framework that uses tree-based learning algorithms. It is designed to be distributed and efficient with the following advantages:\n",
    "\n",
    "* Faster training speed and higher efficiency.\n",
    "* Lower memory usage.\n",
    "* Better accuracy.\n",
    "* Support of parallel and GPU learning.\n",
    "* Capable of handling large-scale data."
   ]
  },
  {
   "cell_type": "markdown",
   "metadata": {
    "colab_type": "text",
    "id": "jf-3F2Wg-KZL"
   },
   "source": [
    "First, we define the function we want to maximize and that will count cross-validation metrics of lightGBM for our parameters.\n",
    "\n",
    "Some params such as num_leaves, max_depth, min_child_samples, min_data_in_leaf should be integers."
   ]
  },
  {
   "cell_type": "code",
   "execution_count": 72,
   "metadata": {},
   "outputs": [],
   "source": [
    "from sklearn.model_selection import train_test_split\n",
    "\n",
    "X = train_df_new.drop('dep_delayed_15min', axis=1)\n",
    "y = train_df_new['dep_delayed_15min']\n",
    "\n",
    "X_train, X_valid, y_train, y_valid = train_test_split(X, y, test_size=0.30, random_state=42)"
   ]
  },
  {
   "cell_type": "code",
   "execution_count": 73,
   "metadata": {},
   "outputs": [],
   "source": [
    "lgtrain = lightgbm.Dataset(X_train, y_train, categorical_feature=categorical_features, free_raw_data=False)"
   ]
  },
  {
   "cell_type": "code",
   "execution_count": 74,
   "metadata": {
    "ExecuteTime": {
     "end_time": "2019-04-22T15:40:14.034265Z",
     "start_time": "2019-04-22T15:40:14.027868Z"
    },
    "colab": {},
    "colab_type": "code",
    "id": "LyUJBhGX-KZM"
   },
   "outputs": [],
   "source": [
    "def lgb_eval(num_leaves,max_depth,lambda_l2,lambda_l1,min_child_samples, min_data_in_leaf):\n",
    "    params = {\n",
    "        \"objective\" : \"binary\",\n",
    "        \"metric\" : \"auc\", \n",
    "        'is_unbalance': True,\n",
    "        \"num_leaves\" : int(num_leaves),\n",
    "        \"max_depth\" : int(max_depth),\n",
    "        \"lambda_l2\" : lambda_l2,\n",
    "        \"lambda_l1\" : lambda_l1,\n",
    "        \"num_threads\" : 20,\n",
    "        \"min_child_samples\" : int(min_child_samples),\n",
    "        'min_data_in_leaf': int(min_data_in_leaf),\n",
    "        \"learning_rate\" : 0.03,\n",
    "        \"subsample_freq\" : 5,\n",
    "        \"bagging_seed\" : 42,\n",
    "        \"verbosity\" : -1,\n",
    "        \"feature_pre_filter\": False}\n",
    "    \n",
    "    cv_result = lightgbm.cv(params=params,\n",
    "                       train_set=lgtrain,\n",
    "                       num_boost_round=1000,\n",
    "                       stratified=True,\n",
    "                       nfold=3)\n",
    "    return cv_result['valid auc-mean'][-1]  "
   ]
  },
  {
   "cell_type": "markdown",
   "metadata": {},
   "source": [
    "<font color=red> why use [-1] to return the last one, is it always the maximum value????\n",
    "\n",
    "<font color=red> the min_child_samples and min_data_in_leaf are same parameter. this is strange to repeated used.\n",
    "https://lightgbm.readthedocs.io/en/stable/Parameters.html"
   ]
  },
  {
   "cell_type": "markdown",
   "metadata": {
    "colab_type": "text",
    "id": "FJwqBhdeF11Q"
   },
   "source": [
    "Apply the Bayesian optimizer to the function we created in the previous step to identify the best hyperparameters. We will run 10 iterations and set init_points = 2.\n"
   ]
  },
  {
   "cell_type": "code",
   "execution_count": 75,
   "metadata": {
    "ExecuteTime": {
     "end_time": "2019-04-22T15:48:04.682447Z",
     "start_time": "2019-04-22T15:40:14.641634Z"
    },
    "colab": {
     "base_uri": "https://localhost:8080/",
     "height": 51
    },
    "colab_type": "code",
    "id": "JheCOkUE-KZP",
    "outputId": "8f37ee51-885d-44e4-cdcd-ceb7abd58b61"
   },
   "outputs": [],
   "source": [
    "lgbBO = BayesianOptimization(f=lgb_eval, pbounds={'num_leaves': (25, 4000),\n",
    "                                                'max_depth': (5, 63),\n",
    "                                                'lambda_l2': (0.0, 0.05),\n",
    "                                                'lambda_l1': (0.0, 0.05),\n",
    "                                                'min_child_samples': (50, 10000),\n",
    "                                                'min_data_in_leaf': (100, 2000)})"
   ]
  },
  {
   "cell_type": "code",
   "execution_count": 76,
   "metadata": {},
   "outputs": [
    {
     "name": "stdout",
     "output_type": "stream",
     "text": [
      "|   iter    |  target   | lambda_l1 | lambda_l2 | max_depth | min_ch... | min_da... | num_le... |\n",
      "-------------------------------------------------------------------------------------------------\n",
      "| \u001b[0m1        \u001b[0m | \u001b[0m0.733    \u001b[0m | \u001b[0m0.04892  \u001b[0m | \u001b[0m0.02947  \u001b[0m | \u001b[0m22.78    \u001b[0m | \u001b[0m5.682e+03\u001b[0m | \u001b[0m1.104e+03\u001b[0m | \u001b[0m2.024e+03\u001b[0m |\n",
      "| \u001b[95m2        \u001b[0m | \u001b[95m0.7367   \u001b[0m | \u001b[95m0.03834  \u001b[0m | \u001b[95m0.03857  \u001b[0m | \u001b[95m20.32    \u001b[0m | \u001b[95m4.986e+03\u001b[0m | \u001b[95m1.897e+03\u001b[0m | \u001b[95m2.497e+03\u001b[0m |\n",
      "| \u001b[0m3        \u001b[0m | \u001b[0m0.7362   \u001b[0m | \u001b[0m0.009514 \u001b[0m | \u001b[0m0.03317  \u001b[0m | \u001b[0m12.08    \u001b[0m | \u001b[0m3.672e+03\u001b[0m | \u001b[0m1.249e+03\u001b[0m | \u001b[0m563.6    \u001b[0m |\n",
      "| \u001b[0m4        \u001b[0m | \u001b[0m0.7328   \u001b[0m | \u001b[0m0.0471   \u001b[0m | \u001b[0m0.04525  \u001b[0m | \u001b[0m33.99    \u001b[0m | \u001b[0m4.898e+03\u001b[0m | \u001b[0m1.164e+03\u001b[0m | \u001b[0m2.608e+03\u001b[0m |\n",
      "| \u001b[0m5        \u001b[0m | \u001b[0m0.7365   \u001b[0m | \u001b[0m0.03901  \u001b[0m | \u001b[0m0.01233  \u001b[0m | \u001b[0m47.95    \u001b[0m | \u001b[0m7.984e+03\u001b[0m | \u001b[0m1.958e+03\u001b[0m | \u001b[0m629.4    \u001b[0m |\n",
      "| \u001b[95m6        \u001b[0m | \u001b[95m0.7369   \u001b[0m | \u001b[95m0.02775  \u001b[0m | \u001b[95m0.03885  \u001b[0m | \u001b[95m17.19    \u001b[0m | \u001b[95m2.776e+03\u001b[0m | \u001b[95m1.832e+03\u001b[0m | \u001b[95m2.226e+03\u001b[0m |\n",
      "| \u001b[0m7        \u001b[0m | \u001b[0m0.7082   \u001b[0m | \u001b[0m0.002291 \u001b[0m | \u001b[0m0.04103  \u001b[0m | \u001b[0m15.92    \u001b[0m | \u001b[0m396.9    \u001b[0m | \u001b[0m662.4    \u001b[0m | \u001b[0m3.162e+03\u001b[0m |\n",
      "| \u001b[0m8        \u001b[0m | \u001b[0m0.736    \u001b[0m | \u001b[0m0.006403 \u001b[0m | \u001b[0m0.03412  \u001b[0m | \u001b[0m42.17    \u001b[0m | \u001b[0m9.939e+03\u001b[0m | \u001b[0m1.966e+03\u001b[0m | \u001b[0m3.742e+03\u001b[0m |\n",
      "| \u001b[0m9        \u001b[0m | \u001b[0m0.6957   \u001b[0m | \u001b[0m0.01423  \u001b[0m | \u001b[0m0.01937  \u001b[0m | \u001b[0m8.699    \u001b[0m | \u001b[0m9.923e+03\u001b[0m | \u001b[0m119.7    \u001b[0m | \u001b[0m198.1    \u001b[0m |\n",
      "| \u001b[0m10       \u001b[0m | \u001b[0m0.7365   \u001b[0m | \u001b[0m0.04182  \u001b[0m | \u001b[0m0.02257  \u001b[0m | \u001b[0m22.99    \u001b[0m | \u001b[0m7.499e+03\u001b[0m | \u001b[0m1.95e+03 \u001b[0m | \u001b[0m3.755e+03\u001b[0m |\n",
      "| \u001b[0m11       \u001b[0m | \u001b[0m0.7366   \u001b[0m | \u001b[0m0.04948  \u001b[0m | \u001b[0m0.02525  \u001b[0m | \u001b[0m48.22    \u001b[0m | \u001b[0m5.867e+03\u001b[0m | \u001b[0m1.974e+03\u001b[0m | \u001b[0m181.4    \u001b[0m |\n",
      "| \u001b[0m12       \u001b[0m | \u001b[0m0.7365   \u001b[0m | \u001b[0m0.0277   \u001b[0m | \u001b[0m0.03409  \u001b[0m | \u001b[0m41.23    \u001b[0m | \u001b[0m2.663e+03\u001b[0m | \u001b[0m1.861e+03\u001b[0m | \u001b[0m2.383e+03\u001b[0m |\n",
      "=================================================================================================\n"
     ]
    }
   ],
   "source": [
    "lgbBO.maximize(n_iter=10, init_points=2)"
   ]
  },
  {
   "cell_type": "markdown",
   "metadata": {
    "colab_type": "text",
    "id": "rdkxhhST-KZS"
   },
   "source": [
    " **<font color='teal'> Print all results by using the '.res' function.</font>**"
   ]
  },
  {
   "cell_type": "code",
   "execution_count": 138,
   "metadata": {
    "ExecuteTime": {
     "end_time": "2019-04-22T15:51:01.001688Z",
     "start_time": "2019-04-22T15:51:00.997484Z"
    },
    "colab": {},
    "colab_type": "code",
    "id": "X1ttZmrI-KZX"
   },
   "outputs": [
    {
     "data": {
      "text/plain": [
       "[{'target': 0.7330266537410289,\n",
       "  'params': {'lambda_l1': 0.04891530752643454,\n",
       "   'lambda_l2': 0.029473984130791882,\n",
       "   'max_depth': 22.777287383073425,\n",
       "   'min_child_samples': 5682.150347777244,\n",
       "   'min_data_in_leaf': 1104.2086876528122,\n",
       "   'num_leaves': 2023.6132526178753}},\n",
       " {'target': 0.7367443315041556,\n",
       "  'params': {'lambda_l1': 0.03834170685414082,\n",
       "   'lambda_l2': 0.03857073808367794,\n",
       "   'max_depth': 20.321473898765646,\n",
       "   'min_child_samples': 4985.820806354555,\n",
       "   'min_data_in_leaf': 1897.4957093441706,\n",
       "   'num_leaves': 2496.9959167012175}},\n",
       " {'target': 0.7361744072607529,\n",
       "  'params': {'lambda_l1': 0.009513691901295246,\n",
       "   'lambda_l2': 0.033166235151974435,\n",
       "   'max_depth': 12.084540778811856,\n",
       "   'min_child_samples': 3672.4428527439445,\n",
       "   'min_data_in_leaf': 1248.93915839465,\n",
       "   'num_leaves': 563.6347350575212}},\n",
       " {'target': 0.7327689834051059,\n",
       "  'params': {'lambda_l1': 0.047104349510963456,\n",
       "   'lambda_l2': 0.04525422879480952,\n",
       "   'max_depth': 33.99482936770164,\n",
       "   'min_child_samples': 4897.722255700185,\n",
       "   'min_data_in_leaf': 1164.0845660799089,\n",
       "   'num_leaves': 2608.0510423709625}},\n",
       " {'target': 0.7364503403529775,\n",
       "  'params': {'lambda_l1': 0.03901121809046704,\n",
       "   'lambda_l2': 0.012329399482698528,\n",
       "   'max_depth': 47.95021592796751,\n",
       "   'min_child_samples': 7984.42580323341,\n",
       "   'min_data_in_leaf': 1958.461834345795,\n",
       "   'num_leaves': 629.4078619913395}},\n",
       " {'target': 0.7369473908252746,\n",
       "  'params': {'lambda_l1': 0.02774976553924449,\n",
       "   'lambda_l2': 0.03884635036275905,\n",
       "   'max_depth': 17.191792483278753,\n",
       "   'min_child_samples': 2775.6558710962963,\n",
       "   'min_data_in_leaf': 1831.602834072356,\n",
       "   'num_leaves': 2225.829374770909}},\n",
       " {'target': 0.708150381394875,\n",
       "  'params': {'lambda_l1': 0.002291037408050256,\n",
       "   'lambda_l2': 0.041028970197514676,\n",
       "   'max_depth': 15.921445634932244,\n",
       "   'min_child_samples': 396.9465319695521,\n",
       "   'min_data_in_leaf': 662.3887354816659,\n",
       "   'num_leaves': 3162.0631096581496}},\n",
       " {'target': 0.7359977982060605,\n",
       "  'params': {'lambda_l1': 0.006403160345465475,\n",
       "   'lambda_l2': 0.03411797148537137,\n",
       "   'max_depth': 42.16647646842333,\n",
       "   'min_child_samples': 9938.565803434209,\n",
       "   'min_data_in_leaf': 1965.7386921680275,\n",
       "   'num_leaves': 3741.8139492894725}},\n",
       " {'target': 0.6957117190087817,\n",
       "  'params': {'lambda_l1': 0.014233450863034887,\n",
       "   'lambda_l2': 0.019374140351970104,\n",
       "   'max_depth': 8.699110244575833,\n",
       "   'min_child_samples': 9922.691895638602,\n",
       "   'min_data_in_leaf': 119.69981567940184,\n",
       "   'num_leaves': 198.06452630575438}},\n",
       " {'target': 0.7364750599427942,\n",
       "  'params': {'lambda_l1': 0.0418217232566576,\n",
       "   'lambda_l2': 0.022565918476716802,\n",
       "   'max_depth': 22.993405551479427,\n",
       "   'min_child_samples': 7498.91790747619,\n",
       "   'min_data_in_leaf': 1949.6149831833152,\n",
       "   'num_leaves': 3754.9278794062056}},\n",
       " {'target': 0.7365963155450643,\n",
       "  'params': {'lambda_l1': 0.0494792296966341,\n",
       "   'lambda_l2': 0.025252577453505988,\n",
       "   'max_depth': 48.218270187619574,\n",
       "   'min_child_samples': 5866.737400185225,\n",
       "   'min_data_in_leaf': 1974.314991181697,\n",
       "   'num_leaves': 181.3864741234556}},\n",
       " {'target': 0.7365399294367366,\n",
       "  'params': {'lambda_l1': 0.027704045224503093,\n",
       "   'lambda_l2': 0.034086128277204385,\n",
       "   'max_depth': 41.227081974560726,\n",
       "   'min_child_samples': 2663.015543998721,\n",
       "   'min_data_in_leaf': 1860.635570389781,\n",
       "   'num_leaves': 2383.299612793987}}]"
      ]
     },
     "execution_count": 138,
     "metadata": {},
     "output_type": "execute_result"
    }
   ],
   "source": [
    "lgbBO.res"
   ]
  },
  {
   "cell_type": "markdown",
   "metadata": {},
   "source": [
    " **<font color='teal'> Print the best result by using the '.max' function.</font>**"
   ]
  },
  {
   "cell_type": "code",
   "execution_count": 80,
   "metadata": {
    "ExecuteTime": {
     "end_time": "2019-04-22T15:49:01.513767Z",
     "start_time": "2019-04-22T15:49:01.509392Z"
    },
    "colab": {},
    "colab_type": "code",
    "id": "oc8z6mfy-KZS"
   },
   "outputs": [
    {
     "data": {
      "text/plain": [
       "{'target': 0.7369473908252746,\n",
       " 'params': {'lambda_l1': 0.02774976553924449,\n",
       "  'lambda_l2': 0.03884635036275905,\n",
       "  'max_depth': 17.191792483278753,\n",
       "  'min_child_samples': 2775.6558710962963,\n",
       "  'min_data_in_leaf': 1831.602834072356,\n",
       "  'num_leaves': 2225.829374770909}}"
      ]
     },
     "execution_count": 80,
     "metadata": {},
     "output_type": "execute_result"
    }
   ],
   "source": [
    "lgbBO.max"
   ]
  },
  {
   "cell_type": "markdown",
   "metadata": {
    "ExecuteTime": {
     "end_time": "2019-04-22T15:50:29.049881Z",
     "start_time": "2019-04-22T15:50:29.045908Z"
    },
    "colab_type": "text",
    "id": "J5LAydKC-KZW"
   },
   "source": [
    "Review the process at each step by using the '.res[0]' function."
   ]
  },
  {
   "cell_type": "markdown",
   "metadata": {},
   "source": [
    " **<font color='teal'> Use the parameters get from hypertuning.</font>**"
   ]
  },
  {
   "cell_type": "code",
   "execution_count": 115,
   "metadata": {},
   "outputs": [],
   "source": [
    "params = {\n",
    "        \"objective\" : \"binary\",\n",
    "        \"metric\" : \"auc\", \n",
    "        'is_unbalance': True,\n",
    "        \"num_leaves\" : int(2225.829374770909),\n",
    "        \"max_depth\" : int(17.191792483278753),\n",
    "        \"lambda_l2\" : 0.03884635036275905,\n",
    "        \"lambda_l1\" : 0.02774976553924449,\n",
    "        \"num_threads\" : 20,\n",
    "        \"min_child_samples\" : int(2775.6558710962963),\n",
    "        'min_data_in_leaf': int(1831.602834072356),\n",
    "        \"learning_rate\" : 0.03,\n",
    "        \"subsample_freq\" : 5,\n",
    "        \"bagging_seed\" : 42,\n",
    "        \"verbosity\" : -1,\n",
    "        \"feature_pre_filter\": False}\n",
    "\n",
    "lgb = lightgbm.train(params=params, train_set=lgtrain)"
   ]
  },
  {
   "cell_type": "code",
   "execution_count": 116,
   "metadata": {},
   "outputs": [
    {
     "data": {
      "text/plain": [
       "array([0.42926376, 0.57363526, 0.36084969, ..., 0.61635873, 0.25015125,\n",
       "       0.46527856])"
      ]
     },
     "execution_count": 116,
     "metadata": {},
     "output_type": "execute_result"
    }
   ],
   "source": [
    "y_valid_predict_probs = lgb.predict(X_valid)\n",
    "y_valid_predict_probs"
   ]
  },
  {
   "cell_type": "code",
   "execution_count": 117,
   "metadata": {},
   "outputs": [
    {
     "data": {
      "image/png": "[encoded data removed]",
      "text/plain": [
       "<Figure size 640x480 with 1 Axes>"
      ]
     },
     "metadata": {},
     "output_type": "display_data"
    }
   ],
   "source": [
    "fpr, tpr, thresholds = roc_curve(y_valid, y_valid_predict_probs)\n",
    "\n",
    "plt.plot([0, 1], [0, 1], 'k--')\n",
    "\n",
    "# Plot tpr against fpr\n",
    "plt.plot(fpr, tpr)\n",
    "plt.xlabel('False Positive Rate')\n",
    "plt.ylabel('True Positive Rate')\n",
    "plt.title('ROC Curve for Departure Delay Prediction')\n",
    "plt.show()"
   ]
  },
  {
   "cell_type": "markdown",
   "metadata": {},
   "source": [
    " **<font color='red'> Use threshold=0.5 for following analysis. Note that for this imbalanced dataset, 0.5 maybe not a good choice!!.</font>**"
   ]
  },
  {
   "cell_type": "code",
   "execution_count": 118,
   "metadata": {},
   "outputs": [],
   "source": [
    "y_valid_predict = (y_valid_predict_probs > 0.5).astype('int')"
   ]
  },
  {
   "cell_type": "code",
   "execution_count": 119,
   "metadata": {},
   "outputs": [
    {
     "data": {
      "text/plain": [
       "<sklearn.metrics._plot.confusion_matrix.ConfusionMatrixDisplay at 0x7fd6ab80a980>"
      ]
     },
     "execution_count": 119,
     "metadata": {},
     "output_type": "execute_result"
    },
    {
     "data": {
      "image/png": "[encoded data removed]",
      "text/plain": [
       "<Figure size 640x480 with 2 Axes>"
      ]
     },
     "metadata": {},
     "output_type": "display_data"
    }
   ],
   "source": [
    "cm = confusion_matrix(y_valid, y_valid_predict, labels = np.array([0,1]))\n",
    "\n",
    "_, ax = plt.subplots()\n",
    "display_cm = ConfusionMatrixDisplay(confusion_matrix = cm, \n",
    "                                    display_labels = ['Not Delay', 'Delay'])\n",
    "ax.set_xticks([0, 1])\n",
    "ax.set_yticks([0, 1])\n",
    "ax.set_xticklabels(labels = ['Not Delay', 'Delay'], fontsize = 10)\n",
    "ax.set_yticklabels(labels = ['Not Delay', 'Delay'], fontsize = 10)\n",
    "display_cm.plot(ax = ax)"
   ]
  },
  {
   "cell_type": "code",
   "execution_count": 120,
   "metadata": {},
   "outputs": [
    {
     "name": "stdout",
     "output_type": "stream",
     "text": [
      "              precision    recall  f1-score   support\n",
      "\n",
      "         0.0       0.89      0.68      0.77     24188\n",
      "         1.0       0.33      0.64      0.43      5807\n",
      "\n",
      "    accuracy                           0.67     29995\n",
      "   macro avg       0.61      0.66      0.60     29995\n",
      "weighted avg       0.78      0.67      0.71     29995\n",
      "\n"
     ]
    }
   ],
   "source": [
    "print(classification_report(y_valid, y_valid_predict))"
   ]
  },
  {
   "cell_type": "markdown",
   "metadata": {},
   "source": [
    " **<font color='teal'> Let's play around and try something different.</font>**"
   ]
  },
  {
   "cell_type": "code",
   "execution_count": 87,
   "metadata": {},
   "outputs": [],
   "source": [
    "def lgb_eval(num_iterations, learning_rate, num_leaves, max_depth,lambda_l2,lambda_l1, min_child_weight, bagging_fraction, feature_fraction):\n",
    "    params = {\n",
    "        \"objective\" : \"binary\",\n",
    "        \"metric\" : \"auc\", \n",
    "        'is_unbalance': True,\n",
    "        \"num_iterations\" : int(num_iterations),\n",
    "        \"learning_rate\" : learning_rate,\n",
    "        \"num_leaves\" : int(num_leaves),\n",
    "        \"max_depth\" : int(max_depth),\n",
    "        \"lambda_l2\" : lambda_l2,\n",
    "        \"lambda_l1\" : lambda_l1,\n",
    "        \"min_child_weight\" : int(min_child_weight),\n",
    "        \"bagging_fraction\" : bagging_fraction,\n",
    "        \"feature_fraction\" : feature_fraction,\n",
    "        \"verbosity\" : -1,\n",
    "        \"bagging_seed\" : 42,\n",
    "        }\n",
    "    \n",
    "    cv_result = lightgbm.cv(params=params,\n",
    "                       train_set=lgtrain,\n",
    "                       num_boost_round=1000,\n",
    "                       stratified=True,\n",
    "                       nfold=3)\n",
    "    return cv_result['valid auc-mean'][-1]  "
   ]
  },
  {
   "cell_type": "code",
   "execution_count": 88,
   "metadata": {},
   "outputs": [],
   "source": [
    "lgbBO_2 = BayesianOptimization(f=lgb_eval, pbounds={'num_iterations': (50,1000),\n",
    "                                                  'learning_rate': (0.01,0.3),\n",
    "                                                  'num_leaves': (20, 150),\n",
    "                                                  'max_depth': (3, 15),\n",
    "                                                  'lambda_l2': (0.0, 1),\n",
    "                                                  'lambda_l1': (0.0, 1),\n",
    "                                                  'min_child_weight': (1,10),\n",
    "                                                  'bagging_fraction': (0.5, 1),\n",
    "                                                  'feature_fraction': (0.5, 1)})"
   ]
  },
  {
   "cell_type": "code",
   "execution_count": 89,
   "metadata": {},
   "outputs": [
    {
     "name": "stdout",
     "output_type": "stream",
     "text": [
      "|   iter    |  target   | baggin... | featur... | lambda_l1 | lambda_l2 | learni... | max_depth | min_ch... | num_it... | num_le... |\n",
      "-------------------------------------------------------------------------------------------------------------------------------------\n",
      "| \u001b[0m1        \u001b[0m | \u001b[0m0.6945   \u001b[0m | \u001b[0m0.8169   \u001b[0m | \u001b[0m0.6898   \u001b[0m | \u001b[0m0.7885   \u001b[0m | \u001b[0m0.8357   \u001b[0m | \u001b[0m0.06374  \u001b[0m | \u001b[0m11.77    \u001b[0m | \u001b[0m7.165    \u001b[0m | \u001b[0m631.7    \u001b[0m | \u001b[0m43.37    \u001b[0m |\n",
      "| \u001b[95m2        \u001b[0m | \u001b[95m0.7021   \u001b[0m | \u001b[95m0.928    \u001b[0m | \u001b[95m0.5155   \u001b[0m | \u001b[95m0.4076   \u001b[0m | \u001b[95m0.7035   \u001b[0m | \u001b[95m0.1551   \u001b[0m | \u001b[95m12.0     \u001b[0m | \u001b[95m8.403    \u001b[0m | \u001b[95m320.8    \u001b[0m | \u001b[95m117.8    \u001b[0m |\n",
      "| \u001b[0m3        \u001b[0m | \u001b[0m0.7011   \u001b[0m | \u001b[0m0.8621   \u001b[0m | \u001b[0m0.5128   \u001b[0m | \u001b[0m0.6775   \u001b[0m | \u001b[0m0.8643   \u001b[0m | \u001b[0m0.2341   \u001b[0m | \u001b[0m14.85    \u001b[0m | \u001b[0m8.316    \u001b[0m | \u001b[0m322.1    \u001b[0m | \u001b[0m116.3    \u001b[0m |\n",
      "| \u001b[0m4        \u001b[0m | \u001b[0m0.6971   \u001b[0m | \u001b[0m0.5384   \u001b[0m | \u001b[0m0.7261   \u001b[0m | \u001b[0m0.9099   \u001b[0m | \u001b[0m0.8179   \u001b[0m | \u001b[0m0.2264   \u001b[0m | \u001b[0m4.073    \u001b[0m | \u001b[0m4.664    \u001b[0m | \u001b[0m307.4    \u001b[0m | \u001b[0m130.1    \u001b[0m |\n",
      "| \u001b[0m5        \u001b[0m | \u001b[0m0.699    \u001b[0m | \u001b[0m0.5605   \u001b[0m | \u001b[0m0.9757   \u001b[0m | \u001b[0m0.2808   \u001b[0m | \u001b[0m0.3322   \u001b[0m | \u001b[0m0.1503   \u001b[0m | \u001b[0m4.287    \u001b[0m | \u001b[0m5.093    \u001b[0m | \u001b[0m323.3    \u001b[0m | \u001b[0m111.5    \u001b[0m |\n",
      "| \u001b[0m6        \u001b[0m | \u001b[0m0.6985   \u001b[0m | \u001b[0m0.8409   \u001b[0m | \u001b[0m0.5806   \u001b[0m | \u001b[0m0.1284   \u001b[0m | \u001b[0m0.0187   \u001b[0m | \u001b[0m0.1839   \u001b[0m | \u001b[0m12.01    \u001b[0m | \u001b[0m8.706    \u001b[0m | \u001b[0m326.5    \u001b[0m | \u001b[0m123.5    \u001b[0m |\n",
      "| \u001b[0m7        \u001b[0m | \u001b[0m0.7008   \u001b[0m | \u001b[0m0.7445   \u001b[0m | \u001b[0m0.5697   \u001b[0m | \u001b[0m0.1332   \u001b[0m | \u001b[0m0.6112   \u001b[0m | \u001b[0m0.1366   \u001b[0m | \u001b[0m14.16    \u001b[0m | \u001b[0m4.993    \u001b[0m | \u001b[0m315.0    \u001b[0m | \u001b[0m115.8    \u001b[0m |\n",
      "| \u001b[0m8        \u001b[0m | \u001b[0m0.6986   \u001b[0m | \u001b[0m0.8859   \u001b[0m | \u001b[0m0.709    \u001b[0m | \u001b[0m0.6168   \u001b[0m | \u001b[0m0.006322 \u001b[0m | \u001b[0m0.1341   \u001b[0m | \u001b[0m12.16    \u001b[0m | \u001b[0m9.752    \u001b[0m | \u001b[0m316.8    \u001b[0m | \u001b[0m109.4    \u001b[0m |\n",
      "| \u001b[95m9        \u001b[0m | \u001b[95m0.7114   \u001b[0m | \u001b[95m0.8367   \u001b[0m | \u001b[95m0.8044   \u001b[0m | \u001b[95m0.1406   \u001b[0m | \u001b[95m0.2745   \u001b[0m | \u001b[95m0.02549  \u001b[0m | \u001b[95m11.07    \u001b[0m | \u001b[95m8.21     \u001b[0m | \u001b[95m314.7    \u001b[0m | \u001b[95m122.4    \u001b[0m |\n",
      "| \u001b[0m10       \u001b[0m | \u001b[0m0.6977   \u001b[0m | \u001b[0m0.8193   \u001b[0m | \u001b[0m0.7854   \u001b[0m | \u001b[0m0.9953   \u001b[0m | \u001b[0m0.9276   \u001b[0m | \u001b[0m0.1294   \u001b[0m | \u001b[0m13.97    \u001b[0m | \u001b[0m5.445    \u001b[0m | \u001b[0m314.9    \u001b[0m | \u001b[0m120.1    \u001b[0m |\n",
      "| \u001b[95m11       \u001b[0m | \u001b[95m0.7142   \u001b[0m | \u001b[95m0.9521   \u001b[0m | \u001b[95m0.6806   \u001b[0m | \u001b[95m0.8559   \u001b[0m | \u001b[95m0.8612   \u001b[0m | \u001b[95m0.02143  \u001b[0m | \u001b[95m11.13    \u001b[0m | \u001b[95m7.612    \u001b[0m | \u001b[95m322.0    \u001b[0m | \u001b[95m117.3    \u001b[0m |\n",
      "| \u001b[0m12       \u001b[0m | \u001b[0m0.6964   \u001b[0m | \u001b[0m0.6624   \u001b[0m | \u001b[0m0.8239   \u001b[0m | \u001b[0m0.3854   \u001b[0m | \u001b[0m0.483    \u001b[0m | \u001b[0m0.2542   \u001b[0m | \u001b[0m12.22    \u001b[0m | \u001b[0m7.223    \u001b[0m | \u001b[0m316.8    \u001b[0m | \u001b[0m122.2    \u001b[0m |\n",
      "=====================================================================================================================================\n"
     ]
    }
   ],
   "source": [
    "lgbBO_2.maximize(n_iter=10, init_points=2)"
   ]
  },
  {
   "cell_type": "code",
   "execution_count": 90,
   "metadata": {},
   "outputs": [
    {
     "data": {
      "text/plain": [
       "{'target': 0.7142096032338298,\n",
       " 'params': {'bagging_fraction': 0.9521008161429096,\n",
       "  'feature_fraction': 0.6805835609163842,\n",
       "  'lambda_l1': 0.8559388227339425,\n",
       "  'lambda_l2': 0.8611871686364946,\n",
       "  'learning_rate': 0.0214313703851424,\n",
       "  'max_depth': 11.1323095319407,\n",
       "  'min_child_weight': 7.612355632912223,\n",
       "  'num_iterations': 322.0138683166364,\n",
       "  'num_leaves': 117.27343888015048}}"
      ]
     },
     "execution_count": 90,
     "metadata": {},
     "output_type": "execute_result"
    }
   ],
   "source": [
    "lgbBO_2.max"
   ]
  },
  {
   "cell_type": "code",
   "execution_count": 123,
   "metadata": {},
   "outputs": [],
   "source": [
    "params = {\n",
    "        \"objective\" : \"binary\",\n",
    "        \"metric\" : \"auc\", \n",
    "        'is_unbalance': True,\n",
    "        \"num_iterations\" : int(322.0138683166364),\n",
    "        \"learning_rate\" : 0.0214313703851424,\n",
    "        \"num_leaves\" : int(117.27343888015048),\n",
    "        \"max_depth\" : int(11.1323095319407),\n",
    "        \"lambda_l2\" : 0.8611871686364946,\n",
    "        \"lambda_l1\" : 0.8559388227339425,\n",
    "        \"min_child_weight\" : int(7.612355632912223),\n",
    "        \"bagging_fraction\" : 0.9521008161429096,\n",
    "        \"feature_fraction\" : 0.6805835609163842,\n",
    "        \"verbosity\" : -1,\n",
    "        \"bagging_seed\" : 42,\n",
    "        }"
   ]
  },
  {
   "cell_type": "code",
   "execution_count": 124,
   "metadata": {},
   "outputs": [],
   "source": [
    "lgb_2 = lightgbm.train(params=params, train_set=lgtrain)"
   ]
  },
  {
   "cell_type": "code",
   "execution_count": 125,
   "metadata": {},
   "outputs": [
    {
     "data": {
      "text/plain": [
       "array([0.40325097, 0.48132955, 0.38486515, ..., 0.6881065 , 0.26820522,\n",
       "       0.42061018])"
      ]
     },
     "execution_count": 125,
     "metadata": {},
     "output_type": "execute_result"
    }
   ],
   "source": [
    "y_valid_predict_probs_2 = lgb_2.predict(X_valid)\n",
    "y_valid_predict_probs_2"
   ]
  },
  {
   "cell_type": "code",
   "execution_count": 139,
   "metadata": {},
   "outputs": [],
   "source": [
    "y_valid_predict_2 = (y_valid_predict_probs_2 > 0.5).astype('int')"
   ]
  },
  {
   "cell_type": "code",
   "execution_count": 140,
   "metadata": {},
   "outputs": [
    {
     "data": {
      "text/plain": [
       "<sklearn.metrics._plot.confusion_matrix.ConfusionMatrixDisplay at 0x7fd6ae2e39a0>"
      ]
     },
     "execution_count": 140,
     "metadata": {},
     "output_type": "execute_result"
    },
    {
     "data": {
      "image/png": "[encoded data removed]",
      "text/plain": [
       "<Figure size 640x480 with 2 Axes>"
      ]
     },
     "metadata": {},
     "output_type": "display_data"
    }
   ],
   "source": [
    "cm = confusion_matrix(y_valid, y_valid_predict_2, labels = np.array([0,1]))\n",
    "\n",
    "_, ax = plt.subplots()\n",
    "display_cm = ConfusionMatrixDisplay(confusion_matrix = cm, \n",
    "                                    display_labels = ['Not Delay', 'Delay'])\n",
    "ax.set_xticks([0, 1])\n",
    "ax.set_yticks([0, 1])\n",
    "ax.set_xticklabels(labels = ['Not Delay', 'Delay'], fontsize = 10)\n",
    "ax.set_yticklabels(labels = ['Not Delay', 'Delay'], fontsize = 10)\n",
    "display_cm.plot(ax = ax)"
   ]
  },
  {
   "cell_type": "code",
   "execution_count": 141,
   "metadata": {},
   "outputs": [
    {
     "name": "stdout",
     "output_type": "stream",
     "text": [
      "              precision    recall  f1-score   support\n",
      "\n",
      "         0.0       0.87      0.73      0.80     24188\n",
      "         1.0       0.33      0.57      0.42      5807\n",
      "\n",
      "    accuracy                           0.70     29995\n",
      "   macro avg       0.60      0.65      0.61     29995\n",
      "weighted avg       0.77      0.70      0.72     29995\n",
      "\n"
     ]
    }
   ],
   "source": [
    "print(classification_report(y_valid, y_valid_predict_2))"
   ]
  },
  {
   "cell_type": "markdown",
   "metadata": {},
   "source": [
    " **<font color='red'> It looks like the first parameter set give higher auc score 0.7369 than the second one 0.7142, but on the valid set, the second one performs better, accuracy 0.70 better than first one's 0.67. This is really surprising.</font>**"
   ]
  },
  {
   "cell_type": "markdown",
   "metadata": {},
   "source": []
  }
 ],
 "metadata": {
  "colab": {
   "name": "Bayesian_optimization_exercise.ipynb",
   "provenance": []
  },
  "deepnote_execution_queue": [],
  "kernelspec": {
   "display_name": "Python 3 (ipykernel)",
   "language": "python",
   "name": "python3"
  },
  "language_info": {
   "codemirror_mode": {
    "name": "ipython",
    "version": 3
   },
   "file_extension": ".py",
   "mimetype": "text/x-python",
   "name": "python",
   "nbconvert_exporter": "python",
   "pygments_lexer": "ipython3",
   "version": "3.10.13"
  },
  "varInspector": {
   "cols": {
    "lenName": 16,
    "lenType": 16,
    "lenVar": 40
   },
   "kernels_config": {
    "python": {
     "delete_cmd_postfix": "",
     "delete_cmd_prefix": "del ",
     "library": "var_list.py",
     "varRefreshCmd": "print(var_dic_list())"
    },
    "r": {
     "delete_cmd_postfix": ") ",
     "delete_cmd_prefix": "rm(",
     "library": "var_list.r",
     "varRefreshCmd": "cat(var_dic_list()) "
    }
   },
   "types_to_exclude": [
    "module",
    "function",
    "builtin_function_or_method",
    "instance",
    "_Feature"
   ],
   "window_display": false
  }
 },
 "nbformat": 4,
 "nbformat_minor": 4
}
